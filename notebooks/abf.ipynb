{
 "cells": [
  {
   "cell_type": "code",
   "execution_count": 83,
   "id": "7262f3b7",
   "metadata": {},
   "outputs": [],
   "source": [
    "import polars as pl\n",
    "from ergochemics.standardize import standardize_smiles\n",
    "from functools import partial"
   ]
  },
  {
   "cell_type": "code",
   "execution_count": 84,
   "id": "a8e36fde",
   "metadata": {},
   "outputs": [],
   "source": [
    "std_smi = partial(standardize_smiles, neutralization_method=\"simple\", quiet=True)"
   ]
  },
  {
   "cell_type": "code",
   "execution_count": 85,
   "id": "ffb94580",
   "metadata": {},
   "outputs": [],
   "source": [
    "name_smi = {}\n",
    "with open(\"/home/stef/bottle/artifacts/4228703247252781668.txt\", \"r\") as f:\n",
    "    for line in f.readlines():\n",
    "        split_line = line.strip().split(\"\\t\")\n",
    "        if len(split_line) == 2:\n",
    "            name, smi = split_line\n",
    "            name_smi[name] = std_smi(smi)\n",
    "        "
   ]
  },
  {
   "cell_type": "code",
   "execution_count": 86,
   "id": "985e2ddb",
   "metadata": {},
   "outputs": [],
   "source": [
    "beachheads = [\n",
    "    \"D-Xylose\",\n",
    "    \"Protocatechuic acid\",\n",
    "    \"Pyruvate\",\n",
    "    \"Malonyl-CoA\",\n",
    "    \"L-aspartate\",\n",
    "    \"Citrate\",\n",
    "    \"Geranyl diphosphate\",\n",
    "    \"Geranylgeranyl diphosphate\",\n",
    "    \"Farnesyl diphosphate\",\n",
    "    \"L-glutamate\",\n",
    "]\n",
    "\n",
    "potential_beachheads = [\n",
    "    \"Glycerol\",\n",
    "    \"L-Tyrosine\",\n",
    "    \"Prephenic acid\",\n",
    "    \"Chorismate\",\n",
    "    \"Acetolactate\",\n",
    "    \"2-Ketoisovalerate\",\n",
    "    \"Acetoacetyl-CoA\",\n",
    "    \"Acetyl-CoA\",\n",
    "    \"2-Ketobutyric acid\",\n",
    "    \"Propionyl-CoA\",\n",
    "    \"L-lysine\",\n",
    "    \"Glutaric acid\",\n",
    "    \"Succinyl-CoA\",\n",
    "    \"L-Proline\",\n",
    "    \"L-Arginine\",\n",
    "]\n",
    "\n",
    "targets = [\n",
    "    \"cis,cis-Muconic acid\",\n",
    "    \"3-Hydroxypropionic acid\",\n",
    "    \"cis-Aconitate\",\n",
    "    \"Cineole\",\n",
    "    \"Bisabolene\",\n",
    "    \"Kaurene\"\n",
    "]"
   ]
  },
  {
   "cell_type": "code",
   "execution_count": 87,
   "id": "8060172c",
   "metadata": {},
   "outputs": [],
   "source": [
    "missing_smiles = []\n",
    "for group_name, group in zip([\"beachheads\", \"potential_beachheads\", \"targets\"], [beachheads, potential_beachheads, targets]):\n",
    "    for name in group:\n",
    "        missing_smiles.append(name) if name not in name_smi else None"
   ]
  },
  {
   "cell_type": "code",
   "execution_count": 88,
   "id": "f6e1f9b0",
   "metadata": {},
   "outputs": [
    {
     "data": {
      "text/plain": [
       "[]"
      ]
     },
     "execution_count": 88,
     "metadata": {},
     "output_type": "execute_result"
    }
   ],
   "source": [
    "missing_smiles"
   ]
  },
  {
   "cell_type": "code",
   "execution_count": 89,
   "id": "2a64ea38",
   "metadata": {},
   "outputs": [],
   "source": [
    "with open(\"round_2.txt\", \"w\") as f:\n",
    "    for name in missing_smiles:\n",
    "        f.write(f\"{name}\\n\")"
   ]
  },
  {
   "cell_type": "code",
   "execution_count": 90,
   "id": "7734f497",
   "metadata": {},
   "outputs": [
    {
     "name": "stderr",
     "output_type": "stream",
     "text": [
      "/tmp/ipykernel_175240/18072210.py:7: DataOrientationWarning: Row orientation inferred during DataFrame construction. Explicitly specify the orientation by passing `orient=\"row\"` to silence this warning.\n",
      "  df = pl.DataFrame(\n"
     ]
    },
    {
     "data": {
      "text/html": [
       "<div><style>\n",
       ".dataframe > thead > tr,\n",
       ".dataframe > tbody > tr {\n",
       "  text-align: right;\n",
       "  white-space: pre-wrap;\n",
       "}\n",
       "</style>\n",
       "<small>shape: (5, 5)</small><table border=\"1\" class=\"dataframe\"><thead><tr><th>name</th><th>smiles</th><th>beachhead</th><th>potential_beachhead</th><th>target</th></tr><tr><td>str</td><td>str</td><td>bool</td><td>bool</td><td>bool</td></tr></thead><tbody><tr><td>&quot;Glucose&quot;</td><td>&quot;OCC1OC(O)C(O)C(O)C1O&quot;</td><td>false</td><td>false</td><td>false</td></tr><tr><td>&quot;Pyruvate&quot;</td><td>&quot;CC(=O)C(=O)O&quot;</td><td>true</td><td>false</td><td>false</td></tr><tr><td>&quot;D-xylono-1,4-lactone&quot;</td><td>&quot;O=C1OC(CO)C(O)C1O&quot;</td><td>false</td><td>false</td><td>false</td></tr><tr><td>&quot;4-Hydroxyhexan-3-one&quot;</td><td>&quot;CCC(=O)C(O)CC&quot;</td><td>false</td><td>false</td><td>false</td></tr><tr><td>&quot;Propanal&quot;</td><td>&quot;CCC=O&quot;</td><td>false</td><td>false</td><td>false</td></tr></tbody></table></div>"
      ],
      "text/plain": [
       "shape: (5, 5)\n",
       "┌──────────────────────┬──────────────────────┬───────────┬─────────────────────┬────────┐\n",
       "│ name                 ┆ smiles               ┆ beachhead ┆ potential_beachhead ┆ target │\n",
       "│ ---                  ┆ ---                  ┆ ---       ┆ ---                 ┆ ---    │\n",
       "│ str                  ┆ str                  ┆ bool      ┆ bool                ┆ bool   │\n",
       "╞══════════════════════╪══════════════════════╪═══════════╪═════════════════════╪════════╡\n",
       "│ Glucose              ┆ OCC1OC(O)C(O)C(O)C1O ┆ false     ┆ false               ┆ false  │\n",
       "│ Pyruvate             ┆ CC(=O)C(=O)O         ┆ true      ┆ false               ┆ false  │\n",
       "│ D-xylono-1,4-lactone ┆ O=C1OC(CO)C(O)C1O    ┆ false     ┆ false               ┆ false  │\n",
       "│ 4-Hydroxyhexan-3-one ┆ CCC(=O)C(O)CC        ┆ false     ┆ false               ┆ false  │\n",
       "│ Propanal             ┆ CCC=O                ┆ false     ┆ false               ┆ false  │\n",
       "└──────────────────────┴──────────────────────┴───────────┴─────────────────────┴────────┘"
      ]
     },
     "execution_count": 90,
     "metadata": {},
     "output_type": "execute_result"
    }
   ],
   "source": [
    "table = []\n",
    "for name, smi in name_smi.items():\n",
    "    table.append(\n",
    "        [name, smi, name in beachheads, name in potential_beachheads, name in targets]\n",
    "    )   \n",
    "    \n",
    "df = pl.DataFrame(\n",
    "    table,\n",
    "    schema=[\n",
    "        (\"name\", pl.String),\n",
    "        (\"smiles\", pl.String),\n",
    "        (\"beachhead\", pl.Boolean),\n",
    "        (\"potential_beachhead\", pl.Boolean),\n",
    "        (\"target\", pl.Boolean),\n",
    "    ]\n",
    ")\n",
    "df.head()"
   ]
  },
  {
   "cell_type": "code",
   "execution_count": 91,
   "id": "e198f8b4",
   "metadata": {},
   "outputs": [],
   "source": [
    "df.write_csv(\n",
    "    \"/home/stef/bottle/artifacts/agile_biofoundry.tsv\",\n",
    "    separator=\"\\t\",\n",
    ")"
   ]
  }
 ],
 "metadata": {
  "kernelspec": {
   "display_name": "bottle-bcOlvnza-py3.12",
   "language": "python",
   "name": "python3"
  },
  "language_info": {
   "codemirror_mode": {
    "name": "ipython",
    "version": 3
   },
   "file_extension": ".py",
   "mimetype": "text/x-python",
   "name": "python",
   "nbconvert_exporter": "python",
   "pygments_lexer": "ipython3",
   "version": "3.12.7"
  }
 },
 "nbformat": 4,
 "nbformat_minor": 5
}
