{
 "cells": [
  {
   "cell_type": "code",
   "execution_count": 1,
   "metadata": {},
   "outputs": [],
   "source": [
    "from minedatabase.pickaxe import Pickaxe\n",
    "import pickle\n",
    "from src.config import filepaths"
   ]
  },
  {
   "cell_type": "code",
   "execution_count": 3,
   "metadata": {},
   "outputs": [],
   "source": [
    "new_fp = filepaths['raw_expansions'] / '2_steps_bottle_targets_24_to_None_rules_JN3604IMT_rules_co_metacyc_coreactants_sampled_False_pruned_False_aplusb_False.pk'\n",
    "old_fp = filepaths['raw_expansions'] / '2_steps_bottle_targets_24_to_None_rules_JN3604IMT_rules_co_metacyc_coreactants_sampled_False_pruned_False_aplusb_False.pk'"
   ]
  },
  {
   "cell_type": "code",
   "execution_count": 4,
   "metadata": {},
   "outputs": [],
   "source": [
    "with open(new_fp, 'rb') as f:\n",
    "    new_pk = pickle.load(f)\n",
    "\n",
    "with open(old_fp, 'rb') as f:\n",
    "    old_pk = pickle.load(f) "
   ]
  },
  {
   "cell_type": "code",
   "execution_count": 7,
   "metadata": {},
   "outputs": [
    {
     "data": {
      "text/plain": [
       "set()"
      ]
     },
     "execution_count": 7,
     "metadata": {},
     "output_type": "execute_result"
    }
   ],
   "source": [
    "new_pk.keys() ^ old_pk.keys()"
   ]
  },
  {
   "cell_type": "code",
   "execution_count": 9,
   "metadata": {},
   "outputs": [
    {
     "data": {
      "text/plain": [
       "dict_keys(['compounds', 'reactions', 'operators', 'coreactants', 'targets', 'generations'])"
      ]
     },
     "execution_count": 9,
     "metadata": {},
     "output_type": "execute_result"
    }
   ],
   "source": [
    "new_pk.keys()"
   ]
  },
  {
   "cell_type": "code",
   "execution_count": 10,
   "metadata": {},
   "outputs": [
    {
     "name": "stdout",
     "output_type": "stream",
     "text": [
      "compounds 17802 17802\n",
      "reactions 26848 26848\n",
      "operators 3604 3604\n",
      "coreactants 45 45\n",
      "targets 0 0\n",
      "generations 2 2\n"
     ]
    }
   ],
   "source": [
    "for k in new_pk.keys():\n",
    "    try:\n",
    "        print(k, len(new_pk[k]), len(old_pk[k]))\n",
    "    except:\n",
    "        print(k, new_pk[k], old_pk[k])"
   ]
  },
  {
   "cell_type": "code",
   "execution_count": 17,
   "metadata": {},
   "outputs": [
    {
     "name": "stdout",
     "output_type": "stream",
     "text": [
      "compounds 0\n",
      "reactions 0\n",
      "operators 0\n",
      "coreactants 0\n",
      "targets 0\n",
      "generations 2 2\n"
     ]
    }
   ],
   "source": [
    "for k in new_pk.keys():\n",
    "    try:\n",
    "        print(k, len(new_pk[k].keys() ^ old_pk[k].keys()))\n",
    "    except:\n",
    "        print(k, new_pk[k], old_pk[k])"
   ]
  }
 ],
 "metadata": {
  "kernelspec": {
   "display_name": "bottle-bcOlvnza-py3.12",
   "language": "python",
   "name": "python3"
  },
  "language_info": {
   "codemirror_mode": {
    "name": "ipython",
    "version": 3
   },
   "file_extension": ".py",
   "mimetype": "text/x-python",
   "name": "python",
   "nbconvert_exporter": "python",
   "pygments_lexer": "ipython3",
   "version": "3.12.7"
  }
 },
 "nbformat": 4,
 "nbformat_minor": 2
}
