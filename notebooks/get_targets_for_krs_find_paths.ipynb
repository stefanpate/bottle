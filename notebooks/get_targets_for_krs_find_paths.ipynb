{
 "cells": [
  {
   "cell_type": "code",
   "execution_count": 33,
   "id": "60efd7fc",
   "metadata": {},
   "outputs": [],
   "source": [
    "from pathlib import Path\n",
    "from tqdm import tqdm\n",
    "from hydra import compose, initialize\n",
    "import polars as pl\n",
    "from minedatabase.pickaxe import Pickaxe\n",
    "import json\n",
    "\n",
    "with initialize(version_base=None, config_path=\"../conf/filepaths\"):\n",
    "    cfg = compose(config_name=\"filepaths\")"
   ]
  },
  {
   "cell_type": "code",
   "execution_count": 27,
   "id": "67342d79",
   "metadata": {},
   "outputs": [
    {
     "name": "stdout",
     "output_type": "stream",
     "text": [
      "8603\n"
     ]
    },
    {
     "data": {
      "text/html": [
       "<div><style>\n",
       ".dataframe > thead > tr,\n",
       ".dataframe > tbody > tr {\n",
       "  text-align: right;\n",
       "  white-space: pre-wrap;\n",
       "}\n",
       "</style>\n",
       "<small>shape: (5, 4)</small><table border=\"1\" class=\"dataframe\"><thead><tr><th>id</th><th>smiles</th><th>names</th><th>n_atoms</th></tr><tr><td>str</td><td>str</td><td>list[str]</td><td>i32</td></tr></thead><tbody><tr><td>&quot;0&quot;</td><td>&quot;*&quot;</td><td>[&quot;A&quot;]</td><td>1</td></tr><tr><td>&quot;1&quot;</td><td>&quot;**&quot;</td><td>[&quot;RX&quot;]</td><td>2</td></tr><tr><td>&quot;2&quot;</td><td>&quot;*C&quot;</td><td>[&quot;an alkane&quot;]</td><td>2</td></tr><tr><td>&quot;3&quot;</td><td>&quot;*C#N&quot;</td><td>[&quot;a nitrile&quot;]</td><td>3</td></tr><tr><td>&quot;4&quot;</td><td>&quot;*C(*)(N)C(=O)O&quot;</td><td>[&quot;2,2-dialkylglycine&quot;]</td><td>7</td></tr></tbody></table></div>"
      ],
      "text/plain": [
       "shape: (5, 4)\n",
       "┌─────┬────────────────┬────────────────────────┬─────────┐\n",
       "│ id  ┆ smiles         ┆ names                  ┆ n_atoms │\n",
       "│ --- ┆ ---            ┆ ---                    ┆ ---     │\n",
       "│ str ┆ str            ┆ list[str]              ┆ i32     │\n",
       "╞═════╪════════════════╪════════════════════════╪═════════╡\n",
       "│ 0   ┆ *              ┆ [\"A\"]                  ┆ 1       │\n",
       "│ 1   ┆ **             ┆ [\"RX\"]                 ┆ 2       │\n",
       "│ 2   ┆ *C             ┆ [\"an alkane\"]          ┆ 2       │\n",
       "│ 3   ┆ *C#N           ┆ [\"a nitrile\"]          ┆ 3       │\n",
       "│ 4   ┆ *C(*)(N)C(=O)O ┆ [\"2,2-dialkylglycine\"] ┆ 7       │\n",
       "└─────┴────────────────┴────────────────────────┴─────────┘"
      ]
     },
     "execution_count": 27,
     "metadata": {},
     "output_type": "execute_result"
    }
   ],
   "source": [
    "kcs = pl.read_parquet(Path(cfg.known) / \"known_compounds.parquet\")\n",
    "print(len(kcs))\n",
    "kcs.head()"
   ]
  },
  {
   "cell_type": "code",
   "execution_count": 28,
   "id": "bcb295e1",
   "metadata": {},
   "outputs": [
    {
     "name": "stdout",
     "output_type": "stream",
     "text": [
      "----------------------------------------\n",
      "Intializing pickaxe object\n",
      "\n",
      "Done intializing pickaxe object\n",
      "----------------------------------------\n",
      "\n",
      "Loading /home/stef/quest_data/bottle/results/raw_expansions/3_steps_bottle_targets_24_to_None_rules_mechinferred_dt_98_rules_w_coreactants_co_metacyc_coreactants_sampled_False_pruned_False_aplusb_True.pk pickled data.\n"
     ]
    },
    {
     "name": "stderr",
     "output_type": "stream",
     "text": [
      "[16:15:09] WARNING: not removing hydrogen atom without neighbors\n"
     ]
    },
    {
     "name": "stdout",
     "output_type": "stream",
     "text": [
      "Loaded 50528 compounds\n",
      "Loaded 95325 reactions\n",
      "Loaded 1878 operators\n",
      "Loaded 48 coreactants\n",
      "Loaded 3 generation\n",
      "Took 0.5814247131347656\n"
     ]
    },
    {
     "name": "stderr",
     "output_type": "stream",
     "text": [
      "100%|██████████| 50528/50528 [00:21<00:00, 2304.65it/s]\n"
     ]
    },
    {
     "name": "stdout",
     "output_type": "stream",
     "text": [
      "----------------------------------------\n",
      "Intializing pickaxe object\n",
      "\n",
      "Done intializing pickaxe object\n",
      "----------------------------------------\n",
      "\n",
      "Loading /home/stef/quest_data/bottle/results/raw_expansions/4_steps_bottle_targets_24_to_None_rules_mechinferred_dt_2_rules_w_coreactants_co_metacyc_coreactants_sampled_False_pruned_False_aplusb_True.pk pickled data.\n"
     ]
    },
    {
     "name": "stderr",
     "output_type": "stream",
     "text": [
      "[16:15:32] WARNING: not removing hydrogen atom without neighbors\n"
     ]
    },
    {
     "name": "stdout",
     "output_type": "stream",
     "text": [
      "Loaded 68894 compounds\n",
      "Loaded 136655 reactions\n",
      "Loaded 6507 operators\n",
      "Loaded 48 coreactants\n",
      "Loaded 4 generation\n",
      "Took 1.0403213500976562\n"
     ]
    },
    {
     "name": "stderr",
     "output_type": "stream",
     "text": [
      "100%|██████████| 68894/68894 [00:28<00:00, 2401.03it/s]\n"
     ]
    },
    {
     "name": "stdout",
     "output_type": "stream",
     "text": [
      "----------------------------------------\n",
      "Intializing pickaxe object\n",
      "\n",
      "Done intializing pickaxe object\n",
      "----------------------------------------\n",
      "\n",
      "Loading /home/stef/quest_data/bottle/results/raw_expansions/4_steps_bottle_targets_24_to_None_rules_mechinformed_rules_w_coreactants_co_metacyc_coreactants_sampled_False_pruned_False_aplusb_True.pk pickled data.\n"
     ]
    },
    {
     "name": "stderr",
     "output_type": "stream",
     "text": [
      "[16:16:13] WARNING: not removing hydrogen atom without neighbors\n"
     ]
    },
    {
     "name": "stdout",
     "output_type": "stream",
     "text": [
      "Loaded 684308 compounds\n",
      "Loaded 1621728 reactions\n",
      "Loaded 640 operators\n",
      "Loaded 46 coreactants\n",
      "Loaded 4 generation\n",
      "Took 12.33701229095459\n"
     ]
    },
    {
     "name": "stderr",
     "output_type": "stream",
     "text": [
      "100%|██████████| 684308/684308 [04:37<00:00, 2465.28it/s] \n"
     ]
    }
   ],
   "source": [
    "exp_names = [\n",
    "    \"3_steps_bottle_targets_24_to_None_rules_mechinferred_dt_98_rules_w_coreactants_co_metacyc_coreactants_sampled_False_pruned_False_aplusb_True.pk\",\n",
    "    \"4_steps_bottle_targets_24_to_None_rules_mechinferred_dt_2_rules_w_coreactants_co_metacyc_coreactants_sampled_False_pruned_False_aplusb_True.pk\",\n",
    "    \"4_steps_bottle_targets_24_to_None_rules_mechinformed_rules_w_coreactants_co_metacyc_coreactants_sampled_False_pruned_False_aplusb_True.pk\",   \n",
    "]\n",
    "\n",
    "known_expansion_compounds = {}\n",
    "for exp_name in exp_names:\n",
    "    pk = Pickaxe()\n",
    "    pk.load_pickled_pickaxe(\n",
    "        Path(cfg.raw_expansions) / exp_name,\n",
    "    )\n",
    "    for cpd in tqdm(pk.compounds.values(), total=len(pk.compounds)):\n",
    "        if cpd[\"_id\"].startswith('X'):\n",
    "            continue\n",
    "\n",
    "        if cpd[\"SMILES\"] in kcs[\"smiles\"]:\n",
    "            names = kcs.filter(pl.col(\"smiles\") == cpd[\"SMILES\"]).row(0, named=True)[\"names\"]\n",
    "            if len(names) > 0:\n",
    "                name = names[0]\n",
    "            else:\n",
    "                name = None\n",
    "\n",
    "            if cpd[\"SMILES\"] not in known_expansion_compounds:\n",
    "                known_expansion_compounds[cpd[\"SMILES\"]] = {\n",
    "                    \"smiles\": cpd[\"SMILES\"],\n",
    "                    \"name\": name,\n",
    "                    \"expansion\": [exp_name],\n",
    "                    \"expansion_id\": [cpd[\"_id\"]],\n",
    "                    \"generation\": [cpd[\"Generation\"]]\n",
    "                }\n",
    "            else:\n",
    "                known_expansion_compounds[cpd[\"SMILES\"]][\"expansion\"].append(exp_name)\n",
    "                known_expansion_compounds[cpd[\"SMILES\"]][\"expansion_id\"].append(cpd[\"_id\"])\n",
    "                known_expansion_compounds[cpd[\"SMILES\"]][\"generation\"].append(cpd[\"Generation\"])"
   ]
  },
  {
   "cell_type": "code",
   "execution_count": 30,
   "id": "cccec435",
   "metadata": {},
   "outputs": [
    {
     "data": {
      "text/html": [
       "<div><style>\n",
       ".dataframe > thead > tr,\n",
       ".dataframe > tbody > tr {\n",
       "  text-align: right;\n",
       "  white-space: pre-wrap;\n",
       "}\n",
       "</style>\n",
       "<small>shape: (5, 5)</small><table border=\"1\" class=\"dataframe\"><thead><tr><th>smiles</th><th>name</th><th>expansion</th><th>expansion_id</th><th>generation</th></tr><tr><td>str</td><td>str</td><td>list[str]</td><td>list[str]</td><td>list[i64]</td></tr></thead><tbody><tr><td>&quot;OCC1OC(O)C(O)C(O)C1O&quot;</td><td>&quot;D-glucose&quot;</td><td>[&quot;3_steps_bottle_targets_24_to_None_rules_mechinferred_dt_98_rules_w_coreactants_co_metacyc_coreactants_sampled_False_pruned_False_aplusb_True.pk&quot;, &quot;4_steps_bottle_targets_24_to_None_rules_mechinferred_dt_2_rules_w_coreactants_co_metacyc_coreactants_sampled_False_pruned_False_aplusb_True.pk&quot;, &quot;4_steps_bottle_targets_24_to_None_rules_mechinformed_rules_w_coreactants_co_metacyc_coreactants_sampled_False_pruned_False_aplusb_True.pk&quot;]</td><td>[&quot;C9ab1a08d72c90a8167d1f3a668d8f1138e534a07&quot;, &quot;C9ab1a08d72c90a8167d1f3a668d8f1138e534a07&quot;, &quot;C9ab1a08d72c90a8167d1f3a668d8f1138e534a07&quot;]</td><td>[1, 1, 1]</td></tr><tr><td>&quot;O=CO&quot;</td><td>&quot;formate&quot;</td><td>[&quot;3_steps_bottle_targets_24_to_None_rules_mechinferred_dt_98_rules_w_coreactants_co_metacyc_coreactants_sampled_False_pruned_False_aplusb_True.pk&quot;, &quot;4_steps_bottle_targets_24_to_None_rules_mechinferred_dt_2_rules_w_coreactants_co_metacyc_coreactants_sampled_False_pruned_False_aplusb_True.pk&quot;, &quot;4_steps_bottle_targets_24_to_None_rules_mechinformed_rules_w_coreactants_co_metacyc_coreactants_sampled_False_pruned_False_aplusb_True.pk&quot;]</td><td>[&quot;C0e2c8d649fd28524ed617a741b4da1c714899166&quot;, &quot;C0e2c8d649fd28524ed617a741b4da1c714899166&quot;, &quot;C0e2c8d649fd28524ed617a741b4da1c714899166&quot;]</td><td>[1, 1, 3]</td></tr><tr><td>&quot;C=CC(=C)C&quot;</td><td>&quot;isoprene&quot;</td><td>[&quot;3_steps_bottle_targets_24_to_None_rules_mechinferred_dt_98_rules_w_coreactants_co_metacyc_coreactants_sampled_False_pruned_False_aplusb_True.pk&quot;, &quot;4_steps_bottle_targets_24_to_None_rules_mechinferred_dt_2_rules_w_coreactants_co_metacyc_coreactants_sampled_False_pruned_False_aplusb_True.pk&quot;]</td><td>[&quot;C7d84cb0b4995d01cf776bed183b74ab096417297&quot;, &quot;C7d84cb0b4995d01cf776bed183b74ab096417297&quot;]</td><td>[1, 1]</td></tr><tr><td>&quot;CC(C)C(=O)O&quot;</td><td>&quot;2-methylpropanoate&quot;</td><td>[&quot;3_steps_bottle_targets_24_to_None_rules_mechinferred_dt_98_rules_w_coreactants_co_metacyc_coreactants_sampled_False_pruned_False_aplusb_True.pk&quot;]</td><td>[&quot;C2d94449d2035580e3a2de661386c29c111c7bf71&quot;]</td><td>[1]</td></tr><tr><td>&quot;CCC(C)CC(=O)O&quot;</td><td>&quot;3-methylpentanoate&quot;</td><td>[&quot;3_steps_bottle_targets_24_to_None_rules_mechinferred_dt_98_rules_w_coreactants_co_metacyc_coreactants_sampled_False_pruned_False_aplusb_True.pk&quot;]</td><td>[&quot;C84d80f64c8534e7ac682f6e3a7e8d5f2810782a3&quot;]</td><td>[1]</td></tr></tbody></table></div>"
      ],
      "text/plain": [
       "shape: (5, 5)\n",
       "┌─────────────────────┬────────────────────┬─────────────────────┬────────────────────┬────────────┐\n",
       "│ smiles              ┆ name               ┆ expansion           ┆ expansion_id       ┆ generation │\n",
       "│ ---                 ┆ ---                ┆ ---                 ┆ ---                ┆ ---        │\n",
       "│ str                 ┆ str                ┆ list[str]           ┆ list[str]          ┆ list[i64]  │\n",
       "╞═════════════════════╪════════════════════╪═════════════════════╪════════════════════╪════════════╡\n",
       "│ OCC1OC(O)C(O)C(O)C1 ┆ D-glucose          ┆ [\"3_steps_bottle_ta ┆ [\"C9ab1a08d72c90a8 ┆ [1, 1, 1]  │\n",
       "│ O                   ┆                    ┆ rgets_24_to…        ┆ 167d1f3a668d…      ┆            │\n",
       "│ O=CO                ┆ formate            ┆ [\"3_steps_bottle_ta ┆ [\"C0e2c8d649fd2852 ┆ [1, 1, 3]  │\n",
       "│                     ┆                    ┆ rgets_24_to…        ┆ 4ed617a741b4…      ┆            │\n",
       "│ C=CC(=C)C           ┆ isoprene           ┆ [\"3_steps_bottle_ta ┆ [\"C7d84cb0b4995d01 ┆ [1, 1]     │\n",
       "│                     ┆                    ┆ rgets_24_to…        ┆ cf776bed183b…      ┆            │\n",
       "│ CC(C)C(=O)O         ┆ 2-methylpropanoate ┆ [\"3_steps_bottle_ta ┆ [\"C2d94449d2035580 ┆ [1]        │\n",
       "│                     ┆                    ┆ rgets_24_to…        ┆ e3a2de661386…      ┆            │\n",
       "│ CCC(C)CC(=O)O       ┆ 3-methylpentanoate ┆ [\"3_steps_bottle_ta ┆ [\"C84d80f64c8534e7 ┆ [1]        │\n",
       "│                     ┆                    ┆ rgets_24_to…        ┆ ac682f6e3a7e…      ┆            │\n",
       "└─────────────────────┴────────────────────┴─────────────────────┴────────────────────┴────────────┘"
      ]
     },
     "execution_count": 30,
     "metadata": {},
     "output_type": "execute_result"
    }
   ],
   "source": [
    "known_exp_cpds = pl.from_dicts(list(known_expansion_compounds.values()))\n",
    "known_exp_cpds.head()"
   ]
  },
  {
   "cell_type": "code",
   "execution_count": 31,
   "id": "ac65e29a",
   "metadata": {},
   "outputs": [
    {
     "name": "stdout",
     "output_type": "stream",
     "text": [
      "177 known compounds in expansion compounds\n"
     ]
    }
   ],
   "source": [
    "print(f\"{len(known_expansion_compounds)} known compounds in expansion compounds\")"
   ]
  },
  {
   "cell_type": "code",
   "execution_count": 32,
   "id": "e2318273",
   "metadata": {},
   "outputs": [],
   "source": [
    "name = \"bottle_targets_24_retro\"\n",
    "known_exp_cpds.write_parquet(\n",
    "    f\"/home/stef/krxns/data/raw/{name}.parquet\",\n",
    ")"
   ]
  },
  {
   "cell_type": "code",
   "execution_count": null,
   "id": "a1199f9d",
   "metadata": {},
   "outputs": [
    {
     "name": "stdout",
     "output_type": "stream",
     "text": [
      "3_steps_bottle_targets_24_to_None_rules_mechinferred_dt_98_rules_w_coreactants_co_metacyc_coreactants_sampled_False_pruned_False_aplusb_True.pk: 137 compounds\n",
      "4_steps_bottle_targets_24_to_None_rules_mechinferred_dt_2_rules_w_coreactants_co_metacyc_coreactants_sampled_False_pruned_False_aplusb_True.pk: 82 compounds\n",
      "4_steps_bottle_targets_24_to_None_rules_mechinformed_rules_w_coreactants_co_metacyc_coreactants_sampled_False_pruned_False_aplusb_True.pk: 66 compounds\n"
     ]
    },
    {
     "ename": "",
     "evalue": "",
     "output_type": "error",
     "traceback": [
      "\u001b[1;31mThe Kernel crashed while executing code in the current cell or a previous cell. \n",
      "\u001b[1;31mPlease review the code in the cell(s) to identify a possible cause of the failure. \n",
      "\u001b[1;31mClick <a href='https://aka.ms/vscodeJupyterKernelCrash'>here</a> for more info. \n",
      "\u001b[1;31mView Jupyter <a href='command:jupyter.viewOutput'>log</a> for further details."
     ]
    }
   ],
   "source": [
    "overrides = {exp_name: {} for exp_name in exp_names}\n",
    "for row in known_exp_cpds.iter_rows(named=True):\n",
    "    for exp_name, exp_id in zip(row[\"expansion\"], row[\"expansion_id\"]):\n",
    "        overrides[exp_name][exp_id] = row[\"name\"]\n",
    "\n",
    "for k, v in overrides.items():\n",
    "    fn = k.removesuffix(\".pk\")\n",
    "    print(f\"{k}: {len(v)} compounds\")\n",
    "    \n",
    "    with open(Path(cfg.artifacts) / \"st_overrides\" / f\"{fn}.json\", \"w\") as f:\n",
    "        json.dump(v, f)"
   ]
  }
 ],
 "metadata": {
  "kernelspec": {
   "display_name": "bottle-bcOlvnza-py3.12",
   "language": "python",
   "name": "python3"
  },
  "language_info": {
   "codemirror_mode": {
    "name": "ipython",
    "version": 3
   },
   "file_extension": ".py",
   "mimetype": "text/x-python",
   "name": "python",
   "nbconvert_exporter": "python",
   "pygments_lexer": "ipython3",
   "version": "3.12.7"
  }
 },
 "nbformat": 4,
 "nbformat_minor": 5
}
