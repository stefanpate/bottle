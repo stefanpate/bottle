{
 "cells": [
  {
   "cell_type": "code",
   "execution_count": 1,
   "id": "60efd7fc",
   "metadata": {},
   "outputs": [],
   "source": [
    "from pathlib import Path\n",
    "from tqdm import tqdm\n",
    "from hydra import compose, initialize\n",
    "import polars as pl\n",
    "from minedatabase.pickaxe import Pickaxe\n",
    "import json\n",
    "\n",
    "with initialize(version_base=None, config_path=\"../conf/filepaths\"):\n",
    "    cfg = compose(config_name=\"filepaths\")"
   ]
  },
  {
   "cell_type": "code",
   "execution_count": 2,
   "id": "67342d79",
   "metadata": {},
   "outputs": [
    {
     "name": "stdout",
     "output_type": "stream",
     "text": [
      "8603\n"
     ]
    },
    {
     "data": {
      "text/html": [
       "<div><style>\n",
       ".dataframe > thead > tr,\n",
       ".dataframe > tbody > tr {\n",
       "  text-align: right;\n",
       "  white-space: pre-wrap;\n",
       "}\n",
       "</style>\n",
       "<small>shape: (5, 4)</small><table border=\"1\" class=\"dataframe\"><thead><tr><th>id</th><th>smiles</th><th>names</th><th>n_atoms</th></tr><tr><td>str</td><td>str</td><td>list[str]</td><td>i32</td></tr></thead><tbody><tr><td>&quot;0&quot;</td><td>&quot;*&quot;</td><td>[&quot;A&quot;]</td><td>1</td></tr><tr><td>&quot;1&quot;</td><td>&quot;**&quot;</td><td>[&quot;RX&quot;]</td><td>2</td></tr><tr><td>&quot;2&quot;</td><td>&quot;*C&quot;</td><td>[&quot;an alkane&quot;]</td><td>2</td></tr><tr><td>&quot;3&quot;</td><td>&quot;*C#N&quot;</td><td>[&quot;a nitrile&quot;]</td><td>3</td></tr><tr><td>&quot;4&quot;</td><td>&quot;*C(*)(N)C(=O)O&quot;</td><td>[&quot;2,2-dialkylglycine&quot;]</td><td>7</td></tr></tbody></table></div>"
      ],
      "text/plain": [
       "shape: (5, 4)\n",
       "┌─────┬────────────────┬────────────────────────┬─────────┐\n",
       "│ id  ┆ smiles         ┆ names                  ┆ n_atoms │\n",
       "│ --- ┆ ---            ┆ ---                    ┆ ---     │\n",
       "│ str ┆ str            ┆ list[str]              ┆ i32     │\n",
       "╞═════╪════════════════╪════════════════════════╪═════════╡\n",
       "│ 0   ┆ *              ┆ [\"A\"]                  ┆ 1       │\n",
       "│ 1   ┆ **             ┆ [\"RX\"]                 ┆ 2       │\n",
       "│ 2   ┆ *C             ┆ [\"an alkane\"]          ┆ 2       │\n",
       "│ 3   ┆ *C#N           ┆ [\"a nitrile\"]          ┆ 3       │\n",
       "│ 4   ┆ *C(*)(N)C(=O)O ┆ [\"2,2-dialkylglycine\"] ┆ 7       │\n",
       "└─────┴────────────────┴────────────────────────┴─────────┘"
      ]
     },
     "execution_count": 2,
     "metadata": {},
     "output_type": "execute_result"
    }
   ],
   "source": [
    "kcs = pl.read_parquet(Path(cfg.known) / \"known_compounds.parquet\")\n",
    "print(len(kcs))\n",
    "kcs.head()"
   ]
  },
  {
   "cell_type": "code",
   "execution_count": 3,
   "id": "bcb295e1",
   "metadata": {},
   "outputs": [
    {
     "name": "stdout",
     "output_type": "stream",
     "text": [
      "----------------------------------------\n",
      "Intializing pickaxe object\n",
      "\n",
      "Done intializing pickaxe object\n",
      "----------------------------------------\n",
      "\n",
      "Loading /home/stef/quest_data/bottle/results/raw_expansions/4_steps_bottle_targets_24_to_None_rules_mechinferred_dt_2_rules_w_coreactants_co_metacyc_coreactants_sampled_False_pruned_False_aplusb_True.pk pickled data.\n"
     ]
    },
    {
     "name": "stderr",
     "output_type": "stream",
     "text": [
      "[15:15:37] WARNING: not removing hydrogen atom without neighbors\n"
     ]
    },
    {
     "name": "stdout",
     "output_type": "stream",
     "text": [
      "Loaded 68894 compounds\n",
      "Loaded 136655 reactions\n",
      "Loaded 6507 operators\n",
      "Loaded 48 coreactants\n",
      "Loaded 4 generation\n",
      "Took 3.165463447570801\n"
     ]
    },
    {
     "name": "stderr",
     "output_type": "stream",
     "text": [
      "100%|██████████| 68894/68894 [00:28<00:00, 2410.43it/s]\n"
     ]
    },
    {
     "name": "stdout",
     "output_type": "stream",
     "text": [
      "----------------------------------------\n",
      "Intializing pickaxe object\n",
      "\n",
      "Done intializing pickaxe object\n",
      "----------------------------------------\n",
      "\n",
      "Loading /home/stef/quest_data/bottle/results/raw_expansions/4_steps_bottle_targets_24_to_None_rules_mechinformed_rules_w_coreactants_co_metacyc_coreactants_sampled_False_pruned_False_aplusb_True.pk pickled data.\n"
     ]
    },
    {
     "name": "stderr",
     "output_type": "stream",
     "text": [
      "[15:16:24] WARNING: not removing hydrogen atom without neighbors\n"
     ]
    },
    {
     "name": "stdout",
     "output_type": "stream",
     "text": [
      "Loaded 684308 compounds\n",
      "Loaded 1621728 reactions\n",
      "Loaded 640 operators\n",
      "Loaded 46 coreactants\n",
      "Loaded 4 generation\n",
      "Took 17.175151109695435\n"
     ]
    },
    {
     "name": "stderr",
     "output_type": "stream",
     "text": [
      "100%|██████████| 684308/684308 [05:11<00:00, 2194.19it/s]\n"
     ]
    }
   ],
   "source": [
    "exp_names = [\n",
    "    # \"3_steps_bottle_targets_24_to_None_rules_mechinferred_dt_98_rules_w_coreactants_co_metacyc_coreactants_sampled_False_pruned_False_aplusb_True.pk\",\n",
    "    \"4_steps_bottle_targets_24_to_None_rules_mechinferred_dt_2_rules_w_coreactants_co_metacyc_coreactants_sampled_False_pruned_False_aplusb_True.pk\",\n",
    "    \"4_steps_bottle_targets_24_to_None_rules_mechinformed_rules_w_coreactants_co_metacyc_coreactants_sampled_False_pruned_False_aplusb_True.pk\",   \n",
    "]\n",
    "\n",
    "known_expansion_compounds = {}\n",
    "for exp_name in exp_names:\n",
    "    pk = Pickaxe()\n",
    "    pk.load_pickled_pickaxe(\n",
    "        Path(cfg.raw_expansions) / exp_name,\n",
    "    )\n",
    "    for cpd in tqdm(pk.compounds.values(), total=len(pk.compounds)):\n",
    "        if cpd[\"_id\"].startswith('X'):\n",
    "            continue\n",
    "\n",
    "        if cpd[\"SMILES\"] in kcs[\"smiles\"]:\n",
    "            names = kcs.filter(pl.col(\"smiles\") == cpd[\"SMILES\"]).row(0, named=True)[\"names\"]\n",
    "            if len(names) > 0:\n",
    "                name = names[0]\n",
    "            else:\n",
    "                name = None\n",
    "\n",
    "            if cpd[\"SMILES\"] not in known_expansion_compounds:\n",
    "                known_expansion_compounds[cpd[\"SMILES\"]] = {\n",
    "                    \"smiles\": cpd[\"SMILES\"],\n",
    "                    \"name\": name,\n",
    "                    \"expansion\": [exp_name],\n",
    "                    \"expansion_id\": [cpd[\"_id\"]],\n",
    "                    \"generation\": [cpd[\"Generation\"]]\n",
    "                }\n",
    "            else:\n",
    "                known_expansion_compounds[cpd[\"SMILES\"]][\"expansion\"].append(exp_name)\n",
    "                known_expansion_compounds[cpd[\"SMILES\"]][\"expansion_id\"].append(cpd[\"_id\"])\n",
    "                known_expansion_compounds[cpd[\"SMILES\"]][\"generation\"].append(cpd[\"Generation\"])"
   ]
  },
  {
   "cell_type": "code",
   "execution_count": 4,
   "id": "cccec435",
   "metadata": {},
   "outputs": [
    {
     "data": {
      "text/html": [
       "<div><style>\n",
       ".dataframe > thead > tr,\n",
       ".dataframe > tbody > tr {\n",
       "  text-align: right;\n",
       "  white-space: pre-wrap;\n",
       "}\n",
       "</style>\n",
       "<small>shape: (5, 5)</small><table border=\"1\" class=\"dataframe\"><thead><tr><th>smiles</th><th>name</th><th>expansion</th><th>expansion_id</th><th>generation</th></tr><tr><td>str</td><td>str</td><td>list[str]</td><td>list[str]</td><td>list[i64]</td></tr></thead><tbody><tr><td>&quot;O=CO&quot;</td><td>&quot;formate&quot;</td><td>[&quot;4_steps_bottle_targets_24_to_None_rules_mechinferred_dt_2_rules_w_coreactants_co_metacyc_coreactants_sampled_False_pruned_False_aplusb_True.pk&quot;, &quot;4_steps_bottle_targets_24_to_None_rules_mechinformed_rules_w_coreactants_co_metacyc_coreactants_sampled_False_pruned_False_aplusb_True.pk&quot;]</td><td>[&quot;C0e2c8d649fd28524ed617a741b4da1c714899166&quot;, &quot;C0e2c8d649fd28524ed617a741b4da1c714899166&quot;]</td><td>[1, 3]</td></tr><tr><td>&quot;C=CC(=C)C&quot;</td><td>&quot;isoprene&quot;</td><td>[&quot;4_steps_bottle_targets_24_to_None_rules_mechinferred_dt_2_rules_w_coreactants_co_metacyc_coreactants_sampled_False_pruned_False_aplusb_True.pk&quot;]</td><td>[&quot;C7d84cb0b4995d01cf776bed183b74ab096417297&quot;]</td><td>[1]</td></tr><tr><td>&quot;OCC1OC(O)C(O)C(O)C1O&quot;</td><td>&quot;D-glucose&quot;</td><td>[&quot;4_steps_bottle_targets_24_to_None_rules_mechinferred_dt_2_rules_w_coreactants_co_metacyc_coreactants_sampled_False_pruned_False_aplusb_True.pk&quot;, &quot;4_steps_bottle_targets_24_to_None_rules_mechinformed_rules_w_coreactants_co_metacyc_coreactants_sampled_False_pruned_False_aplusb_True.pk&quot;]</td><td>[&quot;C9ab1a08d72c90a8167d1f3a668d8f1138e534a07&quot;, &quot;C9ab1a08d72c90a8167d1f3a668d8f1138e534a07&quot;]</td><td>[1, 1]</td></tr><tr><td>&quot;NC=O&quot;</td><td>&quot;formamide&quot;</td><td>[&quot;4_steps_bottle_targets_24_to_None_rules_mechinferred_dt_2_rules_w_coreactants_co_metacyc_coreactants_sampled_False_pruned_False_aplusb_True.pk&quot;, &quot;4_steps_bottle_targets_24_to_None_rules_mechinformed_rules_w_coreactants_co_metacyc_coreactants_sampled_False_pruned_False_aplusb_True.pk&quot;]</td><td>[&quot;C220db1a1874d0af9f61cddea0f8944dba208b46b&quot;, &quot;C220db1a1874d0af9f61cddea0f8944dba208b46b&quot;]</td><td>[2, 3]</td></tr><tr><td>&quot;C=O&quot;</td><td>&quot;formaldehyde&quot;</td><td>[&quot;4_steps_bottle_targets_24_to_None_rules_mechinferred_dt_2_rules_w_coreactants_co_metacyc_coreactants_sampled_False_pruned_False_aplusb_True.pk&quot;]</td><td>[&quot;C7b260f891deab6862fb5c664fb7a7963f1b8d002&quot;]</td><td>[2]</td></tr></tbody></table></div>"
      ],
      "text/plain": [
       "shape: (5, 5)\n",
       "┌──────────────────────┬──────────────┬───────────────────────┬───────────────────────┬────────────┐\n",
       "│ smiles               ┆ name         ┆ expansion             ┆ expansion_id          ┆ generation │\n",
       "│ ---                  ┆ ---          ┆ ---                   ┆ ---                   ┆ ---        │\n",
       "│ str                  ┆ str          ┆ list[str]             ┆ list[str]             ┆ list[i64]  │\n",
       "╞══════════════════════╪══════════════╪═══════════════════════╪═══════════════════════╪════════════╡\n",
       "│ O=CO                 ┆ formate      ┆ [\"4_steps_bottle_targ ┆ [\"C0e2c8d649fd28524ed ┆ [1, 3]     │\n",
       "│                      ┆              ┆ ets_24_to…            ┆ 617a741b4…            ┆            │\n",
       "│ C=CC(=C)C            ┆ isoprene     ┆ [\"4_steps_bottle_targ ┆ [\"C7d84cb0b4995d01cf7 ┆ [1]        │\n",
       "│                      ┆              ┆ ets_24_to…            ┆ 76bed183b…            ┆            │\n",
       "│ OCC1OC(O)C(O)C(O)C1O ┆ D-glucose    ┆ [\"4_steps_bottle_targ ┆ [\"C9ab1a08d72c90a8167 ┆ [1, 1]     │\n",
       "│                      ┆              ┆ ets_24_to…            ┆ d1f3a668d…            ┆            │\n",
       "│ NC=O                 ┆ formamide    ┆ [\"4_steps_bottle_targ ┆ [\"C220db1a1874d0af9f6 ┆ [2, 3]     │\n",
       "│                      ┆              ┆ ets_24_to…            ┆ 1cddea0f8…            ┆            │\n",
       "│ C=O                  ┆ formaldehyde ┆ [\"4_steps_bottle_targ ┆ [\"C7b260f891deab6862f ┆ [2]        │\n",
       "│                      ┆              ┆ ets_24_to…            ┆ b5c664fb7…            ┆            │\n",
       "└──────────────────────┴──────────────┴───────────────────────┴───────────────────────┴────────────┘"
      ]
     },
     "execution_count": 4,
     "metadata": {},
     "output_type": "execute_result"
    }
   ],
   "source": [
    "known_exp_cpds = pl.from_dicts(list(known_expansion_compounds.values()))\n",
    "known_exp_cpds.head()"
   ]
  },
  {
   "cell_type": "code",
   "execution_count": 5,
   "id": "ac65e29a",
   "metadata": {},
   "outputs": [
    {
     "name": "stdout",
     "output_type": "stream",
     "text": [
      "97 known compounds in expansion compounds\n"
     ]
    }
   ],
   "source": [
    "print(f\"{len(known_expansion_compounds)} known compounds in expansion compounds\")"
   ]
  },
  {
   "cell_type": "code",
   "execution_count": null,
   "id": "e2318273",
   "metadata": {},
   "outputs": [],
   "source": [
    "# name = \"bottle_targets_24_retro\"\n",
    "# known_exp_cpds.write_parquet(\n",
    "#     f\"/home/stef/krxns/data/raw/{name}.parquet\",\n",
    "# )"
   ]
  },
  {
   "cell_type": "code",
   "execution_count": 6,
   "id": "a1199f9d",
   "metadata": {},
   "outputs": [
    {
     "name": "stdout",
     "output_type": "stream",
     "text": [
      "4_steps_bottle_targets_24_to_None_rules_mechinferred_dt_2_rules_w_coreactants_co_metacyc_coreactants_sampled_False_pruned_False_aplusb_True.pk: 82 compounds\n",
      "4_steps_bottle_targets_24_to_None_rules_mechinformed_rules_w_coreactants_co_metacyc_coreactants_sampled_False_pruned_False_aplusb_True.pk: 66 compounds\n"
     ]
    }
   ],
   "source": [
    "overrides = {exp_name: {} for exp_name in exp_names}\n",
    "for row in known_exp_cpds.iter_rows(named=True):\n",
    "    for exp_name, exp_id in zip(row[\"expansion\"], row[\"expansion_id\"]):\n",
    "        overrides[exp_name][exp_id] = row[\"name\"]\n",
    "\n",
    "for k, v in overrides.items():\n",
    "    fn = k.removesuffix(\".pk\")\n",
    "    print(f\"{k}: {len(v)} compounds\")\n",
    "    \n",
    "    with open(Path(cfg.artifacts) / \"st_overrides\" / f\"{fn}.json\", \"w\") as f:\n",
    "        json.dump(v, f)"
   ]
  }
 ],
 "metadata": {
  "kernelspec": {
   "display_name": "bottle-bcOlvnza-py3.12",
   "language": "python",
   "name": "python3"
  },
  "language_info": {
   "codemirror_mode": {
    "name": "ipython",
    "version": 3
   },
   "file_extension": ".py",
   "mimetype": "text/x-python",
   "name": "python",
   "nbconvert_exporter": "python",
   "pygments_lexer": "ipython3",
   "version": "3.12.7"
  }
 },
 "nbformat": 4,
 "nbformat_minor": 5
}
