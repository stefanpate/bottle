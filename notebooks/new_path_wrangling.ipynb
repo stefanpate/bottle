{
 "cells": [
  {
   "cell_type": "code",
   "execution_count": 1,
   "id": "bc1ccead",
   "metadata": {},
   "outputs": [],
   "source": [
    "%load_ext autoreload\n",
    "%autoreload 2"
   ]
  },
  {
   "cell_type": "code",
   "execution_count": 15,
   "id": "e5a94f0f",
   "metadata": {},
   "outputs": [],
   "source": [
    "from pathlib import Path\n",
    "from src.chem_draw import draw_molecule\n",
    "from src.post_processing import PathWrangler\n",
    "from hydra import compose, initialize\n",
    "import polars as pl\n",
    "import pandas as pd\n",
    "from functools import partial\n",
    "import os\n",
    "import pathlib\n",
    "import ipywidgets as widgets\n",
    "import traitlets\n",
    "from IPython.display import display, clear_output, SVG\n",
    "from ipyaggrid import Grid\n",
    "from ergochemics.draw import draw_reaction\n",
    "\n",
    "with initialize(version_base=None, config_path=\"../conf/filepaths\"):\n",
    "    cfg = compose(config_name=\"filepaths\")"
   ]
  },
  {
   "cell_type": "code",
   "execution_count": 16,
   "id": "516ff230",
   "metadata": {},
   "outputs": [
    {
     "data": {
      "text/plain": [
       "(PosixPath('/home/stef/quest_data/bottle/results/test'),\n",
       " PosixPath('/home/stef/bottle/artifacts/known'))"
      ]
     },
     "execution_count": 16,
     "metadata": {},
     "output_type": "execute_result"
    }
   ],
   "source": [
    "study = Path(cfg.results) /  \"test\"\n",
    "known = Path(cfg.known)\n",
    "study, known"
   ]
  },
  {
   "cell_type": "code",
   "execution_count": 19,
   "id": "eeb2715b",
   "metadata": {},
   "outputs": [
    {
     "data": {
      "text/html": [
       "<div><style>\n",
       ".dataframe > thead > tr,\n",
       ".dataframe > tbody > tr {\n",
       "  text-align: right;\n",
       "  white-space: pre-wrap;\n",
       "}\n",
       "</style>\n",
       "<small>shape: (9, 14)</small><table border=\"1\" class=\"dataframe\"><thead><tr><th>id</th><th>starters</th><th>targets</th><th>reactions</th><th>dg_opt</th><th>dg_err</th><th>starter_ids</th><th>target_ids</th><th>mdf</th><th>mean_max_rxn_sim</th><th>mean_mean_rxn_sim</th><th>min_max_rxn_sim</th><th>min_mean_rxn_sim</th><th>feasibility_frac</th></tr><tr><td>str</td><td>list[str]</td><td>list[str]</td><td>list[str]</td><td>list[f32]</td><td>list[f32]</td><td>list[str]</td><td>list[str]</td><td>f32</td><td>f32</td><td>f32</td><td>f32</td><td>f32</td><td>f32</td></tr></thead><tbody><tr><td>&quot;P47da4fb5b00f3c99aede9b842bc57…</td><td>[&quot;alpha_ketoglutarate&quot;]</td><td>[&quot;L-glutamine&quot;]</td><td>[&quot;R86f73d66a5e7ccc343a1c8988fa044162004e7502b85aebf85e1ac5427b43de3&quot;, &quot;Rcff9988697ea87445431b4f58d197421fa916855fd0806cbddff247eaa0f475d&quot;]</td><td>null</td><td>null</td><td>[&quot;Ce264bf1bbd482e436995855afdf2170ce7229f1d&quot;]</td><td>[&quot;C65d64c67d323a06f303bafc48646dd8cc2aca598&quot;]</td><td>null</td><td>0.934783</td><td>0.69636</td><td>0.869565</td><td>0.668406</td><td>1.0</td></tr><tr><td>&quot;P28e72cdae9a14d0db307ab59e6f77…</td><td>[&quot;alpha_ketoglutarate&quot;]</td><td>[&quot;L-glutamine&quot;]</td><td>[&quot;R86f73d66a5e7ccc343a1c8988fa044162004e7502b85aebf85e1ac5427b43de3&quot;, &quot;R3aaeb8ef1e95350c5ba3d76d5f102dd7d2ddd86e7575f1f962c5849356725e57&quot;]</td><td>null</td><td>null</td><td>[&quot;Ce264bf1bbd482e436995855afdf2170ce7229f1d&quot;]</td><td>[&quot;C65d64c67d323a06f303bafc48646dd8cc2aca598&quot;]</td><td>null</td><td>0.988372</td><td>0.789172</td><td>0.976744</td><td>0.724315</td><td>1.0</td></tr><tr><td>&quot;Pccc942428329f63d7ffad9d879a16…</td><td>[&quot;alpha_ketoglutarate&quot;]</td><td>[&quot;L-glutamine&quot;]</td><td>[&quot;R86f73d66a5e7ccc343a1c8988fa044162004e7502b85aebf85e1ac5427b43de3&quot;, &quot;Rffa3661ce89525930905fb09eac8d042708a462eee2e13f297d93d4a89e67dee&quot;]</td><td>null</td><td>null</td><td>[&quot;Ce264bf1bbd482e436995855afdf2170ce7229f1d&quot;]</td><td>[&quot;C65d64c67d323a06f303bafc48646dd8cc2aca598&quot;]</td><td>null</td><td>0.631373</td><td>0.493531</td><td>0.262747</td><td>0.262747</td><td>1.0</td></tr><tr><td>&quot;Pf3e2c57c66d3a7f63b54072740c7b…</td><td>[&quot;alpha_ketoglutarate&quot;]</td><td>[&quot;L-glutamine&quot;]</td><td>[&quot;R6b08c41ea674436833eecdcfd1278c7f9a849aafdaa6488653c03378db5c0ee0&quot;, &quot;Rcff9988697ea87445431b4f58d197421fa916855fd0806cbddff247eaa0f475d&quot;]</td><td>null</td><td>null</td><td>[&quot;Ce264bf1bbd482e436995855afdf2170ce7229f1d&quot;]</td><td>[&quot;C65d64c67d323a06f303bafc48646dd8cc2aca598&quot;]</td><td>null</td><td>0.901449</td><td>0.651938</td><td>0.869565</td><td>0.63547</td><td>1.0</td></tr><tr><td>&quot;P26f942ff0bb9f95183aa55f25bb75…</td><td>[&quot;alpha_ketoglutarate&quot;]</td><td>[&quot;L-glutamine&quot;]</td><td>[&quot;R6b08c41ea674436833eecdcfd1278c7f9a849aafdaa6488653c03378db5c0ee0&quot;, &quot;R3aaeb8ef1e95350c5ba3d76d5f102dd7d2ddd86e7575f1f962c5849356725e57&quot;]</td><td>null</td><td>null</td><td>[&quot;Ce264bf1bbd482e436995855afdf2170ce7229f1d&quot;]</td><td>[&quot;C65d64c67d323a06f303bafc48646dd8cc2aca598&quot;]</td><td>null</td><td>0.955039</td><td>0.74475</td><td>0.933333</td><td>0.63547</td><td>1.0</td></tr><tr><td>&quot;Pd29d680a8b6737c19fa16acf6d7eb…</td><td>[&quot;alpha_ketoglutarate&quot;]</td><td>[&quot;L-glutamine&quot;]</td><td>[&quot;R6b08c41ea674436833eecdcfd1278c7f9a849aafdaa6488653c03378db5c0ee0&quot;, &quot;Rffa3661ce89525930905fb09eac8d042708a462eee2e13f297d93d4a89e67dee&quot;]</td><td>null</td><td>null</td><td>[&quot;Ce264bf1bbd482e436995855afdf2170ce7229f1d&quot;]</td><td>[&quot;C65d64c67d323a06f303bafc48646dd8cc2aca598&quot;]</td><td>null</td><td>0.59804</td><td>0.449109</td><td>0.262747</td><td>0.262747</td><td>1.0</td></tr><tr><td>&quot;P6635bb3340f8b6561c1fb1c9dffb8…</td><td>[&quot;alpha_ketoglutarate&quot;]</td><td>[&quot;L-glutamine&quot;]</td><td>[&quot;R24bedc4b9185ba54aa1bcb9b92b745fecf16f2f79df4e13b28dfd98de1600260&quot;, &quot;Rcff9988697ea87445431b4f58d197421fa916855fd0806cbddff247eaa0f475d&quot;]</td><td>null</td><td>null</td><td>[&quot;Ce264bf1bbd482e436995855afdf2170ce7229f1d&quot;]</td><td>[&quot;C65d64c67d323a06f303bafc48646dd8cc2aca598&quot;]</td><td>null</td><td>0.884783</td><td>0.727579</td><td>0.869565</td><td>0.668406</td><td>1.0</td></tr><tr><td>&quot;P809ed4fcbe86cbfe3cedffca01709…</td><td>[&quot;alpha_ketoglutarate&quot;]</td><td>[&quot;L-glutamine&quot;]</td><td>[&quot;R24bedc4b9185ba54aa1bcb9b92b745fecf16f2f79df4e13b28dfd98de1600260&quot;, &quot;R3aaeb8ef1e95350c5ba3d76d5f102dd7d2ddd86e7575f1f962c5849356725e57&quot;]</td><td>null</td><td>null</td><td>[&quot;Ce264bf1bbd482e436995855afdf2170ce7229f1d&quot;]</td><td>[&quot;C65d64c67d323a06f303bafc48646dd8cc2aca598&quot;]</td><td>null</td><td>0.938372</td><td>0.820391</td><td>0.9</td><td>0.786752</td><td>1.0</td></tr><tr><td>&quot;Pb5bcc70fae99f99667913a5acf9b4…</td><td>[&quot;alpha_ketoglutarate&quot;]</td><td>[&quot;L-glutamine&quot;]</td><td>[&quot;R24bedc4b9185ba54aa1bcb9b92b745fecf16f2f79df4e13b28dfd98de1600260&quot;, &quot;Rffa3661ce89525930905fb09eac8d042708a462eee2e13f297d93d4a89e67dee&quot;]</td><td>null</td><td>null</td><td>[&quot;Ce264bf1bbd482e436995855afdf2170ce7229f1d&quot;]</td><td>[&quot;C65d64c67d323a06f303bafc48646dd8cc2aca598&quot;]</td><td>null</td><td>0.581373</td><td>0.52475</td><td>0.262747</td><td>0.262747</td><td>1.0</td></tr></tbody></table></div>"
      ],
      "text/plain": [
       "shape: (9, 14)\n",
       "┌───────────┬───────────┬───────────┬───────────┬───┬───────────┬───────────┬───────────┬──────────┐\n",
       "│ id        ┆ starters  ┆ targets   ┆ reactions ┆ … ┆ mean_mean ┆ min_max_r ┆ min_mean_ ┆ feasibil │\n",
       "│ ---       ┆ ---       ┆ ---       ┆ ---       ┆   ┆ _rxn_sim  ┆ xn_sim    ┆ rxn_sim   ┆ ity_frac │\n",
       "│ str       ┆ list[str] ┆ list[str] ┆ list[str] ┆   ┆ ---       ┆ ---       ┆ ---       ┆ ---      │\n",
       "│           ┆           ┆           ┆           ┆   ┆ f32       ┆ f32       ┆ f32       ┆ f32      │\n",
       "╞═══════════╪═══════════╪═══════════╪═══════════╪═══╪═══════════╪═══════════╪═══════════╪══════════╡\n",
       "│ P47da4fb5 ┆ [\"alpha_k ┆ [\"L-gluta ┆ [\"R86f73d ┆ … ┆ 0.69636   ┆ 0.869565  ┆ 0.668406  ┆ 1.0      │\n",
       "│ b00f3c99a ┆ etoglutar ┆ mine\"]    ┆ 66a5e7ccc ┆   ┆           ┆           ┆           ┆          │\n",
       "│ ede9b842b ┆ ate\"]     ┆           ┆ 343a1c898 ┆   ┆           ┆           ┆           ┆          │\n",
       "│ c57…      ┆           ┆           ┆ 8fa…      ┆   ┆           ┆           ┆           ┆          │\n",
       "│ P28e72cda ┆ [\"alpha_k ┆ [\"L-gluta ┆ [\"R86f73d ┆ … ┆ 0.789172  ┆ 0.976744  ┆ 0.724315  ┆ 1.0      │\n",
       "│ e9a14d0db ┆ etoglutar ┆ mine\"]    ┆ 66a5e7ccc ┆   ┆           ┆           ┆           ┆          │\n",
       "│ 307ab59e6 ┆ ate\"]     ┆           ┆ 343a1c898 ┆   ┆           ┆           ┆           ┆          │\n",
       "│ f77…      ┆           ┆           ┆ 8fa…      ┆   ┆           ┆           ┆           ┆          │\n",
       "│ Pccc94242 ┆ [\"alpha_k ┆ [\"L-gluta ┆ [\"R86f73d ┆ … ┆ 0.493531  ┆ 0.262747  ┆ 0.262747  ┆ 1.0      │\n",
       "│ 8329f63d7 ┆ etoglutar ┆ mine\"]    ┆ 66a5e7ccc ┆   ┆           ┆           ┆           ┆          │\n",
       "│ ffad9d879 ┆ ate\"]     ┆           ┆ 343a1c898 ┆   ┆           ┆           ┆           ┆          │\n",
       "│ a16…      ┆           ┆           ┆ 8fa…      ┆   ┆           ┆           ┆           ┆          │\n",
       "│ Pf3e2c57c ┆ [\"alpha_k ┆ [\"L-gluta ┆ [\"R6b08c4 ┆ … ┆ 0.651938  ┆ 0.869565  ┆ 0.63547   ┆ 1.0      │\n",
       "│ 66d3a7f63 ┆ etoglutar ┆ mine\"]    ┆ 1ea674436 ┆   ┆           ┆           ┆           ┆          │\n",
       "│ b54072740 ┆ ate\"]     ┆           ┆ 833eecdcf ┆   ┆           ┆           ┆           ┆          │\n",
       "│ c7b…      ┆           ┆           ┆ d12…      ┆   ┆           ┆           ┆           ┆          │\n",
       "│ P26f942ff ┆ [\"alpha_k ┆ [\"L-gluta ┆ [\"R6b08c4 ┆ … ┆ 0.74475   ┆ 0.933333  ┆ 0.63547   ┆ 1.0      │\n",
       "│ 0bb9f9518 ┆ etoglutar ┆ mine\"]    ┆ 1ea674436 ┆   ┆           ┆           ┆           ┆          │\n",
       "│ 3aa55f25b ┆ ate\"]     ┆           ┆ 833eecdcf ┆   ┆           ┆           ┆           ┆          │\n",
       "│ b75…      ┆           ┆           ┆ d12…      ┆   ┆           ┆           ┆           ┆          │\n",
       "│ Pd29d680a ┆ [\"alpha_k ┆ [\"L-gluta ┆ [\"R6b08c4 ┆ … ┆ 0.449109  ┆ 0.262747  ┆ 0.262747  ┆ 1.0      │\n",
       "│ 8b6737c19 ┆ etoglutar ┆ mine\"]    ┆ 1ea674436 ┆   ┆           ┆           ┆           ┆          │\n",
       "│ fa16acf6d ┆ ate\"]     ┆           ┆ 833eecdcf ┆   ┆           ┆           ┆           ┆          │\n",
       "│ 7eb…      ┆           ┆           ┆ d12…      ┆   ┆           ┆           ┆           ┆          │\n",
       "│ P6635bb33 ┆ [\"alpha_k ┆ [\"L-gluta ┆ [\"R24bedc ┆ … ┆ 0.727579  ┆ 0.869565  ┆ 0.668406  ┆ 1.0      │\n",
       "│ 40f8b6561 ┆ etoglutar ┆ mine\"]    ┆ 4b9185ba5 ┆   ┆           ┆           ┆           ┆          │\n",
       "│ c1fb1c9df ┆ ate\"]     ┆           ┆ 4aa1bcb9b ┆   ┆           ┆           ┆           ┆          │\n",
       "│ fb8…      ┆           ┆           ┆ 92b…      ┆   ┆           ┆           ┆           ┆          │\n",
       "│ P809ed4fc ┆ [\"alpha_k ┆ [\"L-gluta ┆ [\"R24bedc ┆ … ┆ 0.820391  ┆ 0.9       ┆ 0.786752  ┆ 1.0      │\n",
       "│ be86cbfe3 ┆ etoglutar ┆ mine\"]    ┆ 4b9185ba5 ┆   ┆           ┆           ┆           ┆          │\n",
       "│ cedffca01 ┆ ate\"]     ┆           ┆ 4aa1bcb9b ┆   ┆           ┆           ┆           ┆          │\n",
       "│ 709…      ┆           ┆           ┆ 92b…      ┆   ┆           ┆           ┆           ┆          │\n",
       "│ Pb5bcc70f ┆ [\"alpha_k ┆ [\"L-gluta ┆ [\"R24bedc ┆ … ┆ 0.52475   ┆ 0.262747  ┆ 0.262747  ┆ 1.0      │\n",
       "│ ae99f9966 ┆ etoglutar ┆ mine\"]    ┆ 4b9185ba5 ┆   ┆           ┆           ┆           ┆          │\n",
       "│ 7913a5acf ┆ ate\"]     ┆           ┆ 4aa1bcb9b ┆   ┆           ┆           ┆           ┆          │\n",
       "│ 9b4…      ┆           ┆           ┆ 92b…      ┆   ┆           ┆           ┆           ┆          │\n",
       "└───────────┴───────────┴───────────┴───────────┴───┴───────────┴───────────┴───────────┴──────────┘"
      ]
     },
     "execution_count": 19,
     "metadata": {},
     "output_type": "execute_result"
    }
   ],
   "source": [
    "paths = pl.read_parquet(study / \"found_paths.parquet\")\n",
    "paths"
   ]
  },
  {
   "cell_type": "code",
   "execution_count": 18,
   "id": "3347a0d7",
   "metadata": {},
   "outputs": [
    {
     "data": {
      "text/plain": [
       "(('alpha_ketoglutarate',), ('L-glutamine',))"
      ]
     },
     "execution_count": 18,
     "metadata": {},
     "output_type": "execute_result"
    }
   ],
   "source": [
    "pw = PathWrangler(study=study, known=known)\n",
    "pw.starters, pw.targets"
   ]
  },
  {
   "cell_type": "code",
   "execution_count": 11,
   "id": "e59374e0",
   "metadata": {},
   "outputs": [],
   "source": [
    "batch = pw.get_paths(\n",
    "    starters=pw.starters,\n",
    "    targets=[\"dmhb\", \"dmb\", \"3hpa\"],\n",
    "    sort_by=\"feasibility_frac\",\n",
    "    descending=True,\n",
    "    lower_bounds={\"feasibility_frac\": 0.5},\n",
    "    filter_by_enzymes={'existence': [\n",
    "        'Evidence at protein level',\n",
    "        'Evidence at transcript level',\n",
    "        'Inferred from homology'\n",
    "    ]}\n",
    ")"
   ]
  },
  {
   "cell_type": "code",
   "execution_count": 12,
   "id": "505e1f8d",
   "metadata": {},
   "outputs": [
    {
     "data": {
      "text/html": [
       "<div><style>\n",
       ".dataframe > thead > tr,\n",
       ".dataframe > tbody > tr {\n",
       "  text-align: right;\n",
       "  white-space: pre-wrap;\n",
       "}\n",
       "</style>\n",
       "<small>shape: (5, 7)</small><table border=\"1\" class=\"dataframe\"><thead><tr><th>starter</th><th>target</th><th>min_max_rxn_sim</th><th>mean_max_rxn_sim</th><th>feasibility_frac</th><th>id</th><th>reactions</th></tr><tr><td>str</td><td>str</td><td>f32</td><td>f32</td><td>f32</td><td>str</td><td>list[str]</td></tr></thead><tbody><tr><td>&quot;isoleucine&quot;</td><td>&quot;dmb&quot;</td><td>0.393179</td><td>0.655855</td><td>1.0</td><td>&quot;P81c92a7310b822a5d17acf0a307b6…</td><td>[&quot;Ree013bfbd91e9af66b57b6f538e754223ddc26db33c4ba0543646371ddf9c28f&quot;, &quot;Rdea96778638829fb246cefac129174d214ed1b6914a7b7a0306764d7c4f21b9e&quot;, … &quot;R26a37372ad7e772e37b4c8ed3f0ea8c2bcff36825bb6702c1bcdcc2bc379cb40&quot;]</td></tr><tr><td>&quot;isoleucine&quot;</td><td>&quot;dmhb&quot;</td><td>0.387298</td><td>0.521468</td><td>0.8</td><td>&quot;P233d1ed2b638f7d8c9686113d3d67…</td><td>[&quot;R74bb6d2801ee64ef1736d8221f423314cd07f26811f45743399d7ddba4e2792c&quot;, &quot;R9276f545284594407a54cf9583eb39346f91f44f1fa39e4bc67854a44cc76e8b&quot;, … &quot;R83707e0a53210a8928c08edb9a934e8a6bcc7970c17c627f2d29d4ae5b208b55&quot;]</td></tr><tr><td>&quot;isoleucine&quot;</td><td>&quot;dmhb&quot;</td><td>0.223607</td><td>0.560222</td><td>0.8</td><td>&quot;Pedcf0dab99d1368d9b408171ac6f4…</td><td>[&quot;R9e4be47ac1c620b9421676c03e14200154e8ab08bd90ab20fed9dae8fe0054f7&quot;, &quot;R4a51c507e0029990d4728aee7476c4b3b71d1a8a45ebcf8d739ecfdeac01965f&quot;, … &quot;Rfd9ba87af1ba9c2bcdceabf48729fa3bdc78e4cb6ed66eff10ffd09693249fca&quot;]</td></tr><tr><td>&quot;isoleucine&quot;</td><td>&quot;dmhb&quot;</td><td>0.5</td><td>0.542975</td><td>0.8</td><td>&quot;P5541574a7286790fc18ab857167ae…</td><td>[&quot;Ree013bfbd91e9af66b57b6f538e754223ddc26db33c4ba0543646371ddf9c28f&quot;, &quot;Ra0242cab43855fbb94dd4a66aa7dc45880c7bd917a3128ed51c2ce74b6f1644f&quot;, … &quot;R83707e0a53210a8928c08edb9a934e8a6bcc7970c17c627f2d29d4ae5b208b55&quot;]</td></tr><tr><td>&quot;isoleucine&quot;</td><td>&quot;dmhb&quot;</td><td>0.0</td><td>0.417297</td><td>0.8</td><td>&quot;P113454f57f1754e702bf18b10fd9a…</td><td>[&quot;Ree013bfbd91e9af66b57b6f538e754223ddc26db33c4ba0543646371ddf9c28f&quot;, &quot;Rdea96778638829fb246cefac129174d214ed1b6914a7b7a0306764d7c4f21b9e&quot;, … &quot;Rfd9ba87af1ba9c2bcdceabf48729fa3bdc78e4cb6ed66eff10ffd09693249fca&quot;]</td></tr></tbody></table></div>"
      ],
      "text/plain": [
       "shape: (5, 7)\n",
       "┌────────────┬────────┬───────────────┬───────────────┬──────────────┬──────────────┬──────────────┐\n",
       "│ starter    ┆ target ┆ min_max_rxn_s ┆ mean_max_rxn_ ┆ feasibility_ ┆ id           ┆ reactions    │\n",
       "│ ---        ┆ ---    ┆ im            ┆ sim           ┆ frac         ┆ ---          ┆ ---          │\n",
       "│ str        ┆ str    ┆ ---           ┆ ---           ┆ ---          ┆ str          ┆ list[str]    │\n",
       "│            ┆        ┆ f32           ┆ f32           ┆ f32          ┆              ┆              │\n",
       "╞════════════╪════════╪═══════════════╪═══════════════╪══════════════╪══════════════╪══════════════╡\n",
       "│ isoleucine ┆ dmb    ┆ 0.393179      ┆ 0.655855      ┆ 1.0          ┆ P81c92a7310b ┆ [\"Ree013bfbd │\n",
       "│            ┆        ┆               ┆               ┆              ┆ 822a5d17acf0 ┆ 91e9af66b57b │\n",
       "│            ┆        ┆               ┆               ┆              ┆ a307b6…      ┆ 6f538e…      │\n",
       "│ isoleucine ┆ dmhb   ┆ 0.387298      ┆ 0.521468      ┆ 0.8          ┆ P233d1ed2b63 ┆ [\"R74bb6d280 │\n",
       "│            ┆        ┆               ┆               ┆              ┆ 8f7d8c968611 ┆ 1ee64ef1736d │\n",
       "│            ┆        ┆               ┆               ┆              ┆ 3d3d67…      ┆ 8221f4…      │\n",
       "│ isoleucine ┆ dmhb   ┆ 0.223607      ┆ 0.560222      ┆ 0.8          ┆ Pedcf0dab99d ┆ [\"R9e4be47ac │\n",
       "│            ┆        ┆               ┆               ┆              ┆ 1368d9b40817 ┆ 1c620b942167 │\n",
       "│            ┆        ┆               ┆               ┆              ┆ 1ac6f4…      ┆ 6c03e1…      │\n",
       "│ isoleucine ┆ dmhb   ┆ 0.5           ┆ 0.542975      ┆ 0.8          ┆ P5541574a728 ┆ [\"Ree013bfbd │\n",
       "│            ┆        ┆               ┆               ┆              ┆ 6790fc18ab85 ┆ 91e9af66b57b │\n",
       "│            ┆        ┆               ┆               ┆              ┆ 7167ae…      ┆ 6f538e…      │\n",
       "│ isoleucine ┆ dmhb   ┆ 0.0           ┆ 0.417297      ┆ 0.8          ┆ P113454f57f1 ┆ [\"Ree013bfbd │\n",
       "│            ┆        ┆               ┆               ┆              ┆ 754e702bf18b ┆ 91e9af66b57b │\n",
       "│            ┆        ┆               ┆               ┆              ┆ 10fd9a…      ┆ 6f538e…      │\n",
       "└────────────┴────────┴───────────────┴───────────────┴──────────────┴──────────────┴──────────────┘"
      ]
     },
     "execution_count": 12,
     "metadata": {},
     "output_type": "execute_result"
    }
   ],
   "source": [
    "top = batch[\"paths\"].select(\n",
    "    pl.col(\"starter\"),\n",
    "    pl.col(\"target\"),\n",
    "    pl.col(\"min_max_rxn_sim\"),\n",
    "    pl.col(\"mean_max_rxn_sim\"),\n",
    "    pl.col(\"feasibility_frac\"),\n",
    "    pl.col(\"id\"),\n",
    "    pl.col(\"reactions\")\n",
    ")\n",
    "\n",
    "top.head()"
   ]
  },
  {
   "cell_type": "code",
   "execution_count": null,
   "id": "1449cb23",
   "metadata": {},
   "outputs": [],
   "source": [
    "js_uniprot_id_renderer = '''\n",
    "    function(params){\n",
    "        if (params.value !== undefined && params.value !== null){\n",
    "            return `<a href=\"https://www.uniprot.org/uniprotkb/${params.value}/entry\" target=\"_blank\" rel=\"noopener noreferrer\">${params.value}</a>`;\n",
    "        }\n",
    "        return \"\"\n",
    "    }\n",
    "'''\n",
    "\n",
    "def build_enzymes(enzymes: pl.DataFrame) -> Grid:\n",
    "    df = (\n",
    "        enzymes.to_pandas()\n",
    "        .loc[:, ['id', 'ec', 'organism', 'name', 'existence', 'reviewed', 'sequence']]\n",
    "        .pipe(lambda df: df.set_index(pd.Index(range(1, len(df) + 1), name='idx')))\n",
    "    )\n",
    "    grid = Grid(\n",
    "        grid_data=df,\n",
    "        grid_options={\n",
    "            'columnDefs': [\n",
    "                {'headerName': '', 'field': df.index.name, 'width': 40},\n",
    "                {'headerName': 'UniProt ID ⤴', 'field': 'id', 'cellRenderer': js_uniprot_id_renderer, 'width': 120},\n",
    "                {'headerName': 'EC', 'field': 'ec', 'width': 100},\n",
    "                {'headerName': 'Organism', 'field': 'organism', 'width': 250},\n",
    "                {'headerName': 'Name', 'field': 'name', 'width': 300},\n",
    "                {'headerName': 'Existence', 'field': 'existence', 'width': 200},\n",
    "                {'headerName': 'Reviewed', 'field': 'reviewed', 'width': 100},\n",
    "                {'headerName': 'Sequence', 'field': 'sequence', 'width': 500},\n",
    "            ],\n",
    "            'enableSorting': True,\n",
    "            'enableFilter': True,\n",
    "            'enableColResize': True,\n",
    "            'enableRangeSelection': True,\n",
    "        },\n",
    "        index=True,\n",
    "        theme='ag-theme-balham',\n",
    "        quick_filter=True,\n",
    "        height=190,\n",
    "        width=900,\n",
    "    )\n",
    "    grid.unsync = True\n",
    "    return grid\n",
    "\n",
    "def display_predicted_reaction(rxn_step: int, img: Path, feasibility: int):\n",
    "    html = widgets.HTML(f'<b><u>Step #{rxn_step + 1} | Reaction feasibilty: {bool(feasibility)}</u></b>')\n",
    "    svg = widgets.Image.from_file(img)\n",
    "    return widgets.VBox([html, svg])\n",
    "\n",
    "def widget_path_view(batch: dict[str, pl.DataFrame], idx: int, top_k_analogues: int = 10):\n",
    "    path = batch[\"paths\"].row(idx, named=True)\n",
    "    header = widgets.HTML(f\"\"\"\n",
    "    <h3>{len(path[\"reactions\"])}-step path from {path[\"starter\"].upper()} to {path[\"target\"].upper()}<br>\n",
    "    Max-min driving force: {round(path[\"mdf\"], 2) if path[\"mdf\"] else 'N/A'} kJ/mol<br>\n",
    "    Path feasibility: {path[\"feasibility_frac\"]:.2f}<br>\n",
    "    ID: {path[\"id\"]}\n",
    "    </h3>\n",
    "    \"\"\")\n",
    "    rows = [header]\n",
    "    pred_rxns = batch[\"predicted_reactions\"].filter(\n",
    "        pl.col(\"id\").is_in(path[\"reactions\"])\n",
    "    ).sort(\n",
    "        pl.col(\"id\").replace({id: idx for idx, id in enumerate(path[\"reactions\"])})\n",
    "    ).select(\n",
    "        pl.col(\"id\"),\n",
    "        pl.col(\"dxgb_label\"),\n",
    "        pl.col(\"rxn_sims\"),\n",
    "        pl.col(\"analogue_ids\"),\n",
    "        pl.col(\"image\"),\n",
    "    )\n",
    "    for i, row in enumerate(pred_rxns.iter_rows(named=True)):\n",
    "        pr_elt = display_predicted_reaction(\n",
    "            rxn_step=i,\n",
    "            img=Path(row[\"image\"]),\n",
    "            feasibility=row[\"dxgb_label\"]\n",
    "        )\n",
    "\n",
    "        krid_to_sim = dict(zip(row['analogue_ids'], row[\"rxn_sims\"]))\n",
    "        analogues = batch[\"known_reactions\"].filter(\n",
    "            pl.col(\"id\").is_in(row[\"analogue_ids\"])\n",
    "        ).with_columns(\n",
    "            pl.col(\"id\").replace(krid_to_sim).alias(\"rxn_sim\").cast(pl.Float32),\n",
    "        ).sort(\n",
    "            pl.col(\"rxn_sim\"),\n",
    "            descending=True\n",
    "        ).slice(0, top_k_analogues)\n",
    "\n",
    "        enzymes = batch['enzymes'].filter(\n",
    "            pl.col(\"id\").is_in(set(analogues[\"enzymes\"].explode()))\n",
    "        )\n",
    "        \n",
    "        kr_elt = widget_analogues_enzymes(analogues, enzymes)\n",
    "\n",
    "        row = widgets.GridBox(\n",
    "            children=[pr_elt,  kr_elt],\n",
    "            layout=widgets.Layout(\n",
    "                border='1px solid black',\n",
    "                height='280px',\n",
    "                grid_template_rows='auto',\n",
    "                grid_template_columns='55% 45%',\n",
    "            )\n",
    "        )\n",
    "        rows.append(row)\n",
    "\n",
    "    return widgets.VBox(rows)\n",
    "\n",
    "def display_analogue(img: str, rxn_sim: float):\n",
    "    html = widgets.HTML(f'<b><u>{rxn_sim * 100:.2f}% similar to predicted reaction</u></b>')\n",
    "    svg = widgets.Image.from_file(img)\n",
    "    return widgets.VBox([html, svg])\n",
    "\n",
    "\n",
    "def widget_analogues_enzymes(analogues: pl.DataFrame, enzymes: pl.DataFrame):\n",
    "    kr_elts = []\n",
    "    enzyme_elts = []\n",
    "    for row in analogues.iter_rows(named=True):\n",
    "        kr_elts.append(display_analogue(row[\"image\"], row[\"rxn_sim\"]))\n",
    "        enz = enzymes.filter(pl.col(\"id\").is_in(row[\"enzymes\"]))\n",
    "        enzyme_elts.append(build_enzymes(enz))\n",
    "\n",
    "    kr_default_idx = 0 if len(kr_elts) > 0 else None\n",
    "    enz_default_idx = 0 if len(enzyme_elts) > 0 else None\n",
    "    kr_selector = widgets.Dropdown(\n",
    "        options=[(i + 1, i) for i in range(len(kr_elts))],\n",
    "        value=kr_default_idx,\n",
    "        description=\"Analogue: \"\n",
    "    )\n",
    "    kr_stack = widgets.Stack(kr_elts, selected_index=kr_default_idx)\n",
    "    kr_sel_disp = widgets.VBox([kr_selector, kr_stack])\n",
    "    enzyme_stack = widgets.Stack(enzyme_elts, selected_index=enz_default_idx)\n",
    "    _link_kr = widgets.jslink((kr_selector, 'index'), (kr_stack, 'selected_index'))\n",
    "    _link_enz = widgets.jslink((kr_selector, 'index'), (enzyme_stack, 'selected_index'))\n",
    "\n",
    "    return widgets.Tab(\n",
    "        titles=['Known Analogues', 'Enzymes'],\n",
    "        children=[kr_sel_disp, enzyme_stack],\n",
    "    )"
   ]
  },
  {
   "cell_type": "code",
   "execution_count": 52,
   "id": "68851e12",
   "metadata": {},
   "outputs": [],
   "source": [
    "\n",
    "wstack = []\n",
    "for i in range(len(batch[\"paths\"])):\n",
    "    wstack.append(widget_path_view(batch, i))"
   ]
  },
  {
   "cell_type": "code",
   "execution_count": 43,
   "id": "b8ca4c83",
   "metadata": {},
   "outputs": [
    {
     "data": {
      "application/vnd.jupyter.widget-view+json": {
       "model_id": "a28e4da273c04afd830f687c84bcb15d",
       "version_major": 2,
       "version_minor": 0
      },
      "text/plain": [
       "Dropdown(description='Analogue: ', options=(), value=None)"
      ]
     },
     "execution_count": 43,
     "metadata": {},
     "output_type": "execute_result"
    }
   ],
   "source": [
    "widgets.Dropdown(\n",
    "        options=[(i + 1, i) for i in range(0)],\n",
    "        value=None,\n",
    "        description=\"Analogue: \"\n",
    "    )"
   ]
  },
  {
   "cell_type": "code",
   "execution_count": 48,
   "id": "4db2de50",
   "metadata": {},
   "outputs": [
    {
     "data": {
      "application/vnd.jupyter.widget-view+json": {
       "model_id": "7311fa4f913146a38c7fd4a811be06fb",
       "version_major": 2,
       "version_minor": 0
      },
      "text/plain": [
       "Stack(children=(Text(value='hellow'),), titles=('',))"
      ]
     },
     "execution_count": 48,
     "metadata": {},
     "output_type": "execute_result"
    }
   ],
   "source": [
    "widgets.Stack([widgets.Text(\"hellow\")], selected_index=None)"
   ]
  },
  {
   "cell_type": "code",
   "execution_count": 47,
   "id": "675ad800",
   "metadata": {},
   "outputs": [
    {
     "data": {
      "application/vnd.jupyter.widget-view+json": {
       "model_id": "fcde3fbe29b6485fa863f47b85bf98bc",
       "version_major": 2,
       "version_minor": 0
      },
      "text/plain": [
       "Stack(children=(Text(value='hellow'),), selected_index=0, titles=('',))"
      ]
     },
     "execution_count": 47,
     "metadata": {},
     "output_type": "execute_result"
    }
   ],
   "source": [
    "widgets.Stack([widgets.Text(\"hellow\")], selected_index=0)"
   ]
  },
  {
   "cell_type": "code",
   "execution_count": 36,
   "id": "5810a9e9",
   "metadata": {},
   "outputs": [
    {
     "data": {
      "application/vnd.jupyter.widget-view+json": {
       "model_id": "45914f104f3e4fe6a66d0430f5f96a69",
       "version_major": 2,
       "version_minor": 0
      },
      "text/plain": [
       "VBox(children=(HTML(value='\\n    <h3>2-step path from ALPHA_KETOGLUTARATE to L-GLUTAMINE<br>\\n    Max-min driv…"
      ]
     },
     "execution_count": 36,
     "metadata": {},
     "output_type": "execute_result"
    }
   ],
   "source": [
    "wstack[0]"
   ]
  },
  {
   "cell_type": "code",
   "execution_count": null,
   "id": "7852db61",
   "metadata": {},
   "outputs": [],
   "source": [
    "import time\n",
    "\n",
    "# Search button\n",
    "search_button = widgets.Button(\n",
    "    description='Load paths',\n",
    "    disabled=False,\n",
    "    button_style='success', # 'success', 'info', 'warning', 'danger' or ''\n",
    "    tooltip='Load paths',\n",
    "    icon='flask' # (FontAwesome names without the `fa-` prefix)\n",
    ")\n",
    "\n",
    "paths_label = widgets.Label(\n",
    "    value='Make sorting & filtering selections above',\n",
    ")\n",
    "# UI overall\n",
    "\n",
    "paths_selector = widgets.Label(\n",
    "    value='Select a path to view:',\n",
    ")\n",
    "\n",
    "ui = widgets.VBox(\n",
    "    children=[\n",
    "        search_button,\n",
    "        paths_label,\n",
    "    ],\n",
    "    layout=widgets.Layout(\n",
    "        width='99%',\n",
    "        justify_content='flex-start',\n",
    "    ),\n",
    ")"
   ]
  },
  {
   "cell_type": "code",
   "execution_count": null,
   "id": "4e1b6b32",
   "metadata": {},
   "outputs": [],
   "source": [
    "\n",
    "\n",
    "# on paths selection change :: update paths label & render the paths viewer\n",
    "\n",
    "def loading_paths(change: traitlets.Bunch):\n",
    "    paths_label.value = 'Loading paths...'\n",
    "    time.sleep(5)\n",
    "\n",
    "\n",
    "def update_paths_label(change: traitlets.Bunch):\n",
    "    paths_label.value = f'Fetched {len(change.owner.options)} paths'\n",
    "\n",
    "search_button.on_click(loading_paths)\n",
    "\n",
    "paths_selector.observe(update_paths_label, names=['value'])"
   ]
  }
 ],
 "metadata": {
  "kernelspec": {
   "display_name": "bottle-bcOlvnza-py3.12",
   "language": "python",
   "name": "python3"
  },
  "language_info": {
   "codemirror_mode": {
    "name": "ipython",
    "version": 3
   },
   "file_extension": ".py",
   "mimetype": "text/x-python",
   "name": "python",
   "nbconvert_exporter": "python",
   "pygments_lexer": "ipython3",
   "version": "3.12.7"
  }
 },
 "nbformat": 4,
 "nbformat_minor": 5
}
