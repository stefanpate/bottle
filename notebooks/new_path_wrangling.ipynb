{
 "cells": [
  {
   "cell_type": "code",
   "execution_count": 1,
   "id": "bc1ccead",
   "metadata": {},
   "outputs": [],
   "source": [
    "%load_ext autoreload\n",
    "%autoreload 2"
   ]
  },
  {
   "cell_type": "code",
   "execution_count": 31,
   "id": "e5a94f0f",
   "metadata": {},
   "outputs": [],
   "source": [
    "from pathlib import Path\n",
    "from src.chem_draw import draw_molecule\n",
    "from src.post_processing import PathWrangler\n",
    "from hydra import compose, initialize\n",
    "import polars as pl\n",
    "import pandas as pd\n",
    "from functools import partial\n",
    "import os\n",
    "import pathlib\n",
    "import ipywidgets as widgets\n",
    "import traitlets\n",
    "from IPython.display import display, clear_output, SVG\n",
    "from ipyaggrid import Grid\n",
    "from ergochemics.draw import draw_reaction\n",
    "\n",
    "with initialize(version_base=None, config_path=\"../conf/filepaths\"):\n",
    "    cfg = compose(config_name=\"filepaths\")"
   ]
  },
  {
   "cell_type": "code",
   "execution_count": 32,
   "id": "516ff230",
   "metadata": {},
   "outputs": [
    {
     "data": {
      "text/plain": [
       "(PosixPath('/home/stef/quest_data/bottle/results/test'),\n",
       " PosixPath('/home/stef/bottle/artifacts/known'))"
      ]
     },
     "execution_count": 32,
     "metadata": {},
     "output_type": "execute_result"
    }
   ],
   "source": [
    "study = Path(cfg.results) /  \"test\"\n",
    "known = Path(cfg.known)\n",
    "study, known"
   ]
  },
  {
   "cell_type": "code",
   "execution_count": 33,
   "id": "3347a0d7",
   "metadata": {},
   "outputs": [
    {
     "data": {
      "text/plain": [
       "(('isoleucine',\n",
       "  'tyrosine',\n",
       "  'succinate',\n",
       "  'valine',\n",
       "  'alpha_ketoglutarate',\n",
       "  'glutamic_acid',\n",
       "  'ketoglutarate'),\n",
       " ('L-glutamine', '3hpa', 'dmhb', 'dmb'))"
      ]
     },
     "execution_count": 33,
     "metadata": {},
     "output_type": "execute_result"
    }
   ],
   "source": [
    "pw = PathWrangler(study=study, known=known)\n",
    "pw.starters, pw.targets"
   ]
  },
  {
   "cell_type": "code",
   "execution_count": 34,
   "id": "e59374e0",
   "metadata": {},
   "outputs": [],
   "source": [
    "batch = pw.get_paths(\n",
    "    starters=pw.starters,\n",
    "    targets=[\"dmhb\", \"dmb\", \"3hpa\"],\n",
    "    sort_by=\"min_max_rxn_sim\",\n",
    "    descending=True,\n",
    "    lower_bounds={\"feasibility_frac\": 0.5},\n",
    "    filter_by_enzymes={'existence': [\n",
    "        'Evidence at protein level',\n",
    "        'Evidence at transcript level',\n",
    "        'Inferred from homology'\n",
    "    ]}\n",
    ")"
   ]
  },
  {
   "cell_type": "code",
   "execution_count": 35,
   "id": "505e1f8d",
   "metadata": {},
   "outputs": [
    {
     "data": {
      "text/html": [
       "<div><style>\n",
       ".dataframe > thead > tr,\n",
       ".dataframe > tbody > tr {\n",
       "  text-align: right;\n",
       "  white-space: pre-wrap;\n",
       "}\n",
       "</style>\n",
       "<small>shape: (5, 6)</small><table border=\"1\" class=\"dataframe\"><thead><tr><th>starter</th><th>target</th><th>min_max_rxn_sim</th><th>feasibility_frac</th><th>id</th><th>reactions</th></tr><tr><td>str</td><td>str</td><td>f32</td><td>f32</td><td>str</td><td>list[str]</td></tr></thead><tbody><tr><td>&quot;isoleucine&quot;</td><td>&quot;dmhb&quot;</td><td>0.5</td><td>0.5</td><td>&quot;P8ef6cc0987ad0441f678f7b60535e…</td><td>[&quot;Ree013bfbd91e9af66b57b6f538e754223ddc26db33c4ba0543646371ddf9c28f&quot;, &quot;Ra0242cab43855fbb94dd4a66aa7dc45880c7bd917a3128ed51c2ce74b6f1644f&quot;, … &quot;R83707e0a53210a8928c08edb9a934e8a6bcc7970c17c627f2d29d4ae5b208b55&quot;]</td></tr><tr><td>&quot;valine&quot;</td><td>&quot;3hpa&quot;</td><td>0.5</td><td>0.75</td><td>&quot;Pd34d57c4ac3f17b7d8c8fab394dd3…</td><td>[&quot;R3c35c8bc6d795a41c9bab135bc70ab034a05c7dbfb1effd2d528da3339e75fa6&quot;, &quot;Rcd7728f52223f7e97728eec40f0aca58282470b0e7dcc412cb68e42310e778ef&quot;, … &quot;R91837552f2faefa198c79c6e55d5f72a444f138a78649eb3dfe492e65bba19f3&quot;]</td></tr><tr><td>&quot;isoleucine&quot;</td><td>&quot;dmb&quot;</td><td>0.5</td><td>0.666667</td><td>&quot;P616ee9b5e9f20b6bfd126b503aa11…</td><td>[&quot;Ree013bfbd91e9af66b57b6f538e754223ddc26db33c4ba0543646371ddf9c28f&quot;, &quot;Rdea96778638829fb246cefac129174d214ed1b6914a7b7a0306764d7c4f21b9e&quot;, &quot;R0c3ae2a96afee839e89bc959cea5790525d33694e671994a481788a30c6e759d&quot;]</td></tr><tr><td>&quot;isoleucine&quot;</td><td>&quot;dmhb&quot;</td><td>0.485071</td><td>0.5</td><td>&quot;Pad8cf7b44f6eb9de803346df1d4a1…</td><td>[&quot;R9e4be47ac1c620b9421676c03e14200154e8ab08bd90ab20fed9dae8fe0054f7&quot;, &quot;R4a51c507e0029990d4728aee7476c4b3b71d1a8a45ebcf8d739ecfdeac01965f&quot;, … &quot;R83707e0a53210a8928c08edb9a934e8a6bcc7970c17c627f2d29d4ae5b208b55&quot;]</td></tr><tr><td>&quot;valine&quot;</td><td>&quot;3hpa&quot;</td><td>0.447214</td><td>0.5</td><td>&quot;P9c74a49e03aed3ee89dc6b339ed9a…</td><td>[&quot;R145feb2041b3fcd6577718c69e665e6db1aa5c6110dd7384a461a96d2c773e6f&quot;, &quot;R079066e2d879e59d03b633587c591fcd7545a5064b01f7b51e06d8658b6839cf&quot;, … &quot;R91837552f2faefa198c79c6e55d5f72a444f138a78649eb3dfe492e65bba19f3&quot;]</td></tr></tbody></table></div>"
      ],
      "text/plain": [
       "shape: (5, 6)\n",
       "┌────────────┬────────┬─────────────────┬──────────────────┬───────────────────┬───────────────────┐\n",
       "│ starter    ┆ target ┆ min_max_rxn_sim ┆ feasibility_frac ┆ id                ┆ reactions         │\n",
       "│ ---        ┆ ---    ┆ ---             ┆ ---              ┆ ---               ┆ ---               │\n",
       "│ str        ┆ str    ┆ f32             ┆ f32              ┆ str               ┆ list[str]         │\n",
       "╞════════════╪════════╪═════════════════╪══════════════════╪═══════════════════╪═══════════════════╡\n",
       "│ isoleucine ┆ dmhb   ┆ 0.5             ┆ 0.5              ┆ P8ef6cc0987ad0441 ┆ [\"Ree013bfbd91e9a │\n",
       "│            ┆        ┆                 ┆                  ┆ f678f7b60535e…    ┆ f66b57b6f538e…    │\n",
       "│ valine     ┆ 3hpa   ┆ 0.5             ┆ 0.75             ┆ Pd34d57c4ac3f17b7 ┆ [\"R3c35c8bc6d795a │\n",
       "│            ┆        ┆                 ┆                  ┆ d8c8fab394dd3…    ┆ 41c9bab135bc7…    │\n",
       "│ isoleucine ┆ dmb    ┆ 0.5             ┆ 0.666667         ┆ P616ee9b5e9f20b6b ┆ [\"Ree013bfbd91e9a │\n",
       "│            ┆        ┆                 ┆                  ┆ fd126b503aa11…    ┆ f66b57b6f538e…    │\n",
       "│ isoleucine ┆ dmhb   ┆ 0.485071        ┆ 0.5              ┆ Pad8cf7b44f6eb9de ┆ [\"R9e4be47ac1c620 │\n",
       "│            ┆        ┆                 ┆                  ┆ 803346df1d4a1…    ┆ b9421676c03e1…    │\n",
       "│ valine     ┆ 3hpa   ┆ 0.447214        ┆ 0.5              ┆ P9c74a49e03aed3ee ┆ [\"R145feb2041b3fc │\n",
       "│            ┆        ┆                 ┆                  ┆ 89dc6b339ed9a…    ┆ d6577718c69e6…    │\n",
       "└────────────┴────────┴─────────────────┴──────────────────┴───────────────────┴───────────────────┘"
      ]
     },
     "execution_count": 35,
     "metadata": {},
     "output_type": "execute_result"
    }
   ],
   "source": [
    "top = batch[\"paths\"].select(\n",
    "    pl.col(\"starter\"),\n",
    "    pl.col(\"target\"),\n",
    "    pl.col(\"min_max_rxn_sim\"),\n",
    "    pl.col(\"feasibility_frac\"),\n",
    "    pl.col(\"id\"),\n",
    "    pl.col(\"reactions\")\n",
    ")\n",
    "\n",
    "top.head()"
   ]
  },
  {
   "cell_type": "code",
   "execution_count": null,
   "id": "1449cb23",
   "metadata": {},
   "outputs": [],
   "source": [
    "js_uniprot_id_renderer = '''\n",
    "    function(params){\n",
    "        if (params.value !== undefined && params.value !== null){\n",
    "            return `<a href=\"https://www.uniprot.org/uniprotkb/${params.value}/entry\" target=\"_blank\" rel=\"noopener noreferrer\">${params.value}</a>`;\n",
    "        }\n",
    "        return \"\"\n",
    "    }\n",
    "'''\n",
    "\n",
    "def build_enzymes(enzymes: pl.DataFrame) -> Grid:\n",
    "    df = (\n",
    "        enzymes.to_pandas()\n",
    "        .loc[:, ['id', 'ec', 'organism', 'name', 'existence', 'reviewed', 'sequence']]\n",
    "        .pipe(lambda df: df.set_index(pd.Index(range(1, len(df) + 1), name='idx')))\n",
    "    )\n",
    "    grid = Grid(\n",
    "        grid_data=df,\n",
    "        grid_options={\n",
    "            'columnDefs': [\n",
    "                {'headerName': '', 'field': df.index.name, 'width': 40},\n",
    "                {'headerName': 'UniProt ID ⤴', 'field': 'id', 'cellRenderer': js_uniprot_id_renderer, 'width': 120},\n",
    "                {'headerName': 'EC', 'field': 'ec', 'width': 100},\n",
    "                {'headerName': 'Organism', 'field': 'organism', 'width': 250},\n",
    "                {'headerName': 'Name', 'field': 'name', 'width': 300},\n",
    "                {'headerName': 'Existence', 'field': 'existence', 'width': 200},\n",
    "                {'headerName': 'Reviewed', 'field': 'reviewed', 'width': 100},\n",
    "                {'headerName': 'Sequence', 'field': 'sequence', 'width': 500},\n",
    "            ],\n",
    "            'enableSorting': True,\n",
    "            'enableFilter': True,\n",
    "            'enableColResize': True,\n",
    "            'enableRangeSelection': True,\n",
    "        },\n",
    "        index=True,\n",
    "        theme='ag-theme-balham',\n",
    "        quick_filter=True,\n",
    "        height=190,\n",
    "        width=900,\n",
    "    )\n",
    "    grid.unsync = True\n",
    "    return grid\n",
    "\n",
    "def display_predicted_reaction(rxn_step: int, img: Path, feasibility: int):\n",
    "    html = widgets.HTML(f'<b><u>Step #{rxn_step + 1} | Reaction feasibilty: {bool(feasibility)}</u></b>')\n",
    "    svg = widgets.Image.from_file(img)\n",
    "    return widgets.VBox([html, svg])\n",
    "\n",
    "def widget_path_view(batch: dict[str, pl.DataFrame], idx: int, top_k_analogues: int = 10):\n",
    "    path = batch[\"paths\"].row(idx, named=True)\n",
    "    header = widgets.HTML(f\"\"\"\n",
    "    <h3>{len(path[\"reactions\"])}-step path from {path[\"starter\"].upper()} to {path[\"target\"].upper()}<br>\n",
    "    Max-min driving force: {round(path[\"mdf\"], 2) if path[\"mdf\"] else 'N/A'} kJ/mol<br>\n",
    "    Path feasibility: {path[\"feasibility_frac\"]:.2f}<br>\n",
    "    ID: {path[\"id\"]}\n",
    "    </h3>\n",
    "    \"\"\")\n",
    "    rows = [header]\n",
    "    pred_rxns = batch[\"predicted_reactions\"].filter(\n",
    "        pl.col(\"id\").is_in(path[\"reactions\"])\n",
    "    ).sort(\n",
    "        pl.col(\"id\").replace({id: idx for idx, id in enumerate(path[\"reactions\"])})\n",
    "    ).select(\n",
    "        pl.col(\"id\"),\n",
    "        pl.col(\"dxgb_label\"),\n",
    "        pl.col(\"rxn_sims\"),\n",
    "        pl.col(\"analogue_ids\"),\n",
    "        pl.col(\"image\"),\n",
    "    )\n",
    "    for i, row in enumerate(pred_rxns.iter_rows(named=True)):\n",
    "        pr_elt = display_predicted_reaction(\n",
    "            rxn_step=i,\n",
    "            img=Path(row[\"image\"]),\n",
    "            feasibility=row[\"dxgb_label\"]\n",
    "        )\n",
    "\n",
    "        krid_to_sim = dict(zip(row['analogue_ids'], row[\"rxn_sims\"]))\n",
    "        analogues = batch[\"known_reactions\"].filter(\n",
    "            pl.col(\"id\").is_in(row[\"analogue_ids\"])\n",
    "        ).with_columns(\n",
    "            pl.col(\"id\").replace(krid_to_sim).alias(\"rxn_sim\").cast(pl.Float32),\n",
    "        ).sort(\n",
    "            pl.col(\"rxn_sim\"),\n",
    "            descending=True\n",
    "        ).slice(0, top_k_analogues)\n",
    "\n",
    "        enzymes = batch['enzymes'].filter(\n",
    "            pl.col(\"id\").is_in(set(analogues[\"enzymes\"].explode()))\n",
    "        )\n",
    "        \n",
    "        kr_elt = widget_analogues_enzymes(analogues, enzymes)\n",
    "\n",
    "        row = widgets.GridBox(\n",
    "            children=[pr_elt,  kr_elt],\n",
    "            layout=widgets.Layout(\n",
    "                border='1px solid black',\n",
    "                height='280px',\n",
    "                grid_template_rows='auto',\n",
    "                grid_template_columns='55% 45%',\n",
    "            )\n",
    "        )\n",
    "        rows.append(row)\n",
    "\n",
    "    return widgets.VBox(rows)\n",
    "\n",
    "def display_analogue(img: str, rxn_sim: float):\n",
    "    html = widgets.HTML(f'<b><u>{rxn_sim * 100:.2f}% similar to predicted reaction</u></b>')\n",
    "    svg = widgets.Image.from_file(img)\n",
    "    return widgets.VBox([html, svg])\n",
    "\n",
    "\n",
    "def widget_analogues_enzymes(analogues: pl.DataFrame, enzymes: pl.DataFrame):\n",
    "    kr_elts = []\n",
    "    enzyme_elts = []\n",
    "    for row in analogues.iter_rows(named=True):\n",
    "        kr_elts.append(display_analogue(row[\"image\"], row[\"rxn_sim\"]))\n",
    "        enz = enzymes.filter(pl.col(\"id\").is_in(row[\"enzymes\"]))\n",
    "        enzyme_elts.append(build_enzymes(enz))\n",
    "\n",
    "    kr_default_idx = 0 if len(kr_elts) > 0 else None\n",
    "    enz_default_idx = 0 if len(enzyme_elts) > 0 else None\n",
    "    kr_selector = widgets.Dropdown(\n",
    "        options=[(i + 1, i) for i in range(len(kr_elts))],\n",
    "        value=kr_default_idx,\n",
    "        description=\"Analogue: \"\n",
    "    )\n",
    "    kr_stack = widgets.Stack(kr_elts, selected_index=kr_default_idx)\n",
    "    kr_sel_disp = widgets.VBox([kr_selector, kr_stack])\n",
    "    enzyme_stack = widgets.Stack(enzyme_elts, selected_index=enz_default_idx)\n",
    "    _link_kr = widgets.jslink((kr_selector, 'index'), (kr_stack, 'selected_index'))\n",
    "    _link_enz = widgets.jslink((kr_selector, 'index'), (enzyme_stack, 'selected_index'))\n",
    "\n",
    "    return widgets.Tab(\n",
    "        titles=['Known Analogues', 'Enzymes'],\n",
    "        children=[kr_sel_disp, enzyme_stack],\n",
    "    )"
   ]
  },
  {
   "cell_type": "code",
   "execution_count": 52,
   "id": "68851e12",
   "metadata": {},
   "outputs": [],
   "source": [
    "\n",
    "wstack = []\n",
    "for i in range(len(batch[\"paths\"])):\n",
    "    wstack.append(widget_path_view(batch, i))"
   ]
  },
  {
   "cell_type": "code",
   "execution_count": 43,
   "id": "b8ca4c83",
   "metadata": {},
   "outputs": [
    {
     "data": {
      "application/vnd.jupyter.widget-view+json": {
       "model_id": "a28e4da273c04afd830f687c84bcb15d",
       "version_major": 2,
       "version_minor": 0
      },
      "text/plain": [
       "Dropdown(description='Analogue: ', options=(), value=None)"
      ]
     },
     "execution_count": 43,
     "metadata": {},
     "output_type": "execute_result"
    }
   ],
   "source": [
    "widgets.Dropdown(\n",
    "        options=[(i + 1, i) for i in range(0)],\n",
    "        value=None,\n",
    "        description=\"Analogue: \"\n",
    "    )"
   ]
  },
  {
   "cell_type": "code",
   "execution_count": 48,
   "id": "4db2de50",
   "metadata": {},
   "outputs": [
    {
     "data": {
      "application/vnd.jupyter.widget-view+json": {
       "model_id": "7311fa4f913146a38c7fd4a811be06fb",
       "version_major": 2,
       "version_minor": 0
      },
      "text/plain": [
       "Stack(children=(Text(value='hellow'),), titles=('',))"
      ]
     },
     "execution_count": 48,
     "metadata": {},
     "output_type": "execute_result"
    }
   ],
   "source": [
    "widgets.Stack([widgets.Text(\"hellow\")], selected_index=None)"
   ]
  },
  {
   "cell_type": "code",
   "execution_count": 47,
   "id": "675ad800",
   "metadata": {},
   "outputs": [
    {
     "data": {
      "application/vnd.jupyter.widget-view+json": {
       "model_id": "fcde3fbe29b6485fa863f47b85bf98bc",
       "version_major": 2,
       "version_minor": 0
      },
      "text/plain": [
       "Stack(children=(Text(value='hellow'),), selected_index=0, titles=('',))"
      ]
     },
     "execution_count": 47,
     "metadata": {},
     "output_type": "execute_result"
    }
   ],
   "source": [
    "widgets.Stack([widgets.Text(\"hellow\")], selected_index=0)"
   ]
  },
  {
   "cell_type": "code",
   "execution_count": 36,
   "id": "5810a9e9",
   "metadata": {},
   "outputs": [
    {
     "data": {
      "application/vnd.jupyter.widget-view+json": {
       "model_id": "45914f104f3e4fe6a66d0430f5f96a69",
       "version_major": 2,
       "version_minor": 0
      },
      "text/plain": [
       "VBox(children=(HTML(value='\\n    <h3>2-step path from ALPHA_KETOGLUTARATE to L-GLUTAMINE<br>\\n    Max-min driv…"
      ]
     },
     "execution_count": 36,
     "metadata": {},
     "output_type": "execute_result"
    }
   ],
   "source": [
    "wstack[0]"
   ]
  },
  {
   "cell_type": "code",
   "execution_count": null,
   "id": "7852db61",
   "metadata": {},
   "outputs": [],
   "source": [
    "import time\n",
    "\n",
    "# Search button\n",
    "search_button = widgets.Button(\n",
    "    description='Load paths',\n",
    "    disabled=False,\n",
    "    button_style='success', # 'success', 'info', 'warning', 'danger' or ''\n",
    "    tooltip='Load paths',\n",
    "    icon='flask' # (FontAwesome names without the `fa-` prefix)\n",
    ")\n",
    "\n",
    "paths_label = widgets.Label(\n",
    "    value='Make sorting & filtering selections above',\n",
    ")\n",
    "# UI overall\n",
    "\n",
    "paths_selector = widgets.Label(\n",
    "    value='Select a path to view:',\n",
    ")\n",
    "\n",
    "ui = widgets.VBox(\n",
    "    children=[\n",
    "        search_button,\n",
    "        paths_label,\n",
    "    ],\n",
    "    layout=widgets.Layout(\n",
    "        width='99%',\n",
    "        justify_content='flex-start',\n",
    "    ),\n",
    ")"
   ]
  },
  {
   "cell_type": "code",
   "execution_count": null,
   "id": "4e1b6b32",
   "metadata": {},
   "outputs": [],
   "source": [
    "\n",
    "\n",
    "# on paths selection change :: update paths label & render the paths viewer\n",
    "\n",
    "def loading_paths(change: traitlets.Bunch):\n",
    "    paths_label.value = 'Loading paths...'\n",
    "    time.sleep(5)\n",
    "\n",
    "\n",
    "def update_paths_label(change: traitlets.Bunch):\n",
    "    paths_label.value = f'Fetched {len(change.owner.options)} paths'\n",
    "\n",
    "search_button.on_click(loading_paths)\n",
    "\n",
    "paths_selector.observe(update_paths_label, names=['value'])"
   ]
  }
 ],
 "metadata": {
  "kernelspec": {
   "display_name": "bottle-bcOlvnza-py3.12",
   "language": "python",
   "name": "python3"
  },
  "language_info": {
   "codemirror_mode": {
    "name": "ipython",
    "version": 3
   },
   "file_extension": ".py",
   "mimetype": "text/x-python",
   "name": "python",
   "nbconvert_exporter": "python",
   "pygments_lexer": "ipython3",
   "version": "3.12.7"
  }
 },
 "nbformat": 4,
 "nbformat_minor": 5
}
