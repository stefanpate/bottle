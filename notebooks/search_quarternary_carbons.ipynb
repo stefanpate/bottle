{
 "cells": [
  {
   "cell_type": "code",
   "execution_count": 1,
   "id": "60efd7fc",
   "metadata": {},
   "outputs": [],
   "source": [
    "from rdkit import Chem\n",
    "from copy import deepcopy\n",
    "from src.config import filepaths\n",
    "import pandas as pd\n",
    "from pathlib import Path\n",
    "from tqdm import tqdm\n",
    "from IPython.display import SVG\n",
    "import json\n",
    "import ipywidgets as widgets\n",
    "from ipywidgets import interact\n",
    "from src.chem_draw import draw_molecule"
   ]
  },
  {
   "cell_type": "code",
   "execution_count": 2,
   "id": "3ebe051e",
   "metadata": {},
   "outputs": [],
   "source": [
    "with open(filepaths['sprhea'] /  \"sprhea_240310_v3_mapped_no_subunits.json\", 'r') as f:\n",
    "    rhea = json.load(f)"
   ]
  },
  {
   "cell_type": "code",
   "execution_count": 3,
   "id": "997e65b9",
   "metadata": {},
   "outputs": [
    {
     "name": "stdout",
     "output_type": "stream",
     "text": [
      "8603\n"
     ]
    }
   ],
   "source": [
    "smiles = {}\n",
    "for k, v in rhea.items():\n",
    "    rxn_smiles = v['smarts']\n",
    "    lhs, rhs = [side.split(\".\") for side in rxn_smiles.split(\">>\")]\n",
    "    row_smiles = lhs + rhs\n",
    "    for smi in row_smiles:\n",
    "        smiles[smi] = k\n",
    "\n",
    "print(len(smiles))"
   ]
  },
  {
   "cell_type": "code",
   "execution_count": 4,
   "id": "9ed0a255",
   "metadata": {},
   "outputs": [
    {
     "name": "stderr",
     "output_type": "stream",
     "text": [
      "[16:03:37] Unusual charge on atom 0 number of radical electrons set to zero\n",
      "[16:03:37] WARNING: not removing hydrogen atom with dummy atom neighbors\n",
      "[16:03:37] WARNING: not removing hydrogen atom with dummy atom neighbors\n",
      "[16:03:37] WARNING: not removing hydrogen atom with dummy atom neighbors\n",
      "[16:03:38] Unusual charge on atom 0 number of radical electrons set to zero\n"
     ]
    },
    {
     "name": "stdout",
     "output_type": "stream",
     "text": [
      "1828\n"
     ]
    }
   ],
   "source": [
    "qty_C = '[#6]-[#6](-[#6])(-[#6])(-[#6])'\n",
    "qty_C_smiles = {}\n",
    "for k, v in smiles.items():\n",
    "    mol = Chem.MolFromSmiles(k)\n",
    "    patt = Chem.MolFromSmarts(qty_C)\n",
    "\n",
    "    if mol.HasSubstructMatch(patt):\n",
    "        qty_C_smiles[k] = v\n",
    "\n",
    "print(len(qty_C_smiles))"
   ]
  },
  {
   "cell_type": "code",
   "execution_count": 5,
   "id": "8baa2c04",
   "metadata": {},
   "outputs": [
    {
     "data": {
      "application/vnd.jupyter.widget-view+json": {
       "model_id": "139627a316d54af79de384e036cee48b",
       "version_major": 2,
       "version_minor": 0
      },
      "text/plain": [
       "interactive(children=(Dropdown(description='SMILES:', options=('CC(C)(C)C=O', 'CC(=O)C(C)(C)C', 'CC(C)(C)C(O)C…"
      ]
     },
     "metadata": {},
     "output_type": "display_data"
    }
   ],
   "source": [
    "# Create a dropdown widget with the keys of qty_C_smiles\n",
    "dropdown = widgets.Dropdown(\n",
    "    options=sorted(qty_C_smiles.keys(), key=lambda x: Chem.MolFromSmiles(x).GetNumAtoms()),\n",
    "    description='SMILES:',\n",
    "    style={'description_width': 'initial'}\n",
    ")\n",
    "\n",
    "# Define a function to display the selected key\n",
    "@interact\n",
    "def display_molecule(smi = dropdown):\n",
    "    display(SVG(draw_molecule(smi, size=(300, 300))))"
   ]
  }
 ],
 "metadata": {
  "kernelspec": {
   "display_name": "bottle-bcOlvnza-py3.12",
   "language": "python",
   "name": "python3"
  },
  "language_info": {
   "codemirror_mode": {
    "name": "ipython",
    "version": 3
   },
   "file_extension": ".py",
   "mimetype": "text/x-python",
   "name": "python",
   "nbconvert_exporter": "python",
   "pygments_lexer": "ipython3",
   "version": "3.12.7"
  }
 },
 "nbformat": 4,
 "nbformat_minor": 5
}
