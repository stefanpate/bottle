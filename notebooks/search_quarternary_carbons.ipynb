{
 "cells": [
  {
   "cell_type": "code",
   "execution_count": 6,
   "id": "60efd7fc",
   "metadata": {},
   "outputs": [],
   "source": [
    "from rdkit import Chem\n",
    "from copy import deepcopy\n",
    "import pandas as pd\n",
    "from pathlib import Path\n",
    "from tqdm import tqdm\n",
    "from IPython.display import SVG\n",
    "import json\n",
    "import ipywidgets as widgets\n",
    "from ipywidgets import interact\n",
    "from src.chem_draw import draw_molecule\n",
    "from hydra import compose, initialize\n",
    "import polars as pl\n",
    "from functools import partial\n",
    "\n",
    "with initialize(version_base=None, config_path=\"../conf/filepaths\"):\n",
    "    cfg = compose(config_name=\"filepaths\")"
   ]
  },
  {
   "cell_type": "code",
   "execution_count": 5,
   "id": "3ebe051e",
   "metadata": {},
   "outputs": [
    {
     "name": "stdout",
     "output_type": "stream",
     "text": [
      "8603\n"
     ]
    },
    {
     "data": {
      "text/html": [
       "<div><style>\n",
       ".dataframe > thead > tr,\n",
       ".dataframe > tbody > tr {\n",
       "  text-align: right;\n",
       "  white-space: pre-wrap;\n",
       "}\n",
       "</style>\n",
       "<small>shape: (5, 4)</small><table border=\"1\" class=\"dataframe\"><thead><tr><th>id</th><th>smiles</th><th>names</th><th>n_atoms</th></tr><tr><td>i64</td><td>str</td><td>list[str]</td><td>i32</td></tr></thead><tbody><tr><td>0</td><td>&quot;*&quot;</td><td>[&quot;A&quot;]</td><td>1</td></tr><tr><td>1</td><td>&quot;**&quot;</td><td>[&quot;RX&quot;]</td><td>2</td></tr><tr><td>2</td><td>&quot;*C&quot;</td><td>[&quot;an alkane&quot;]</td><td>2</td></tr><tr><td>3</td><td>&quot;*C#N&quot;</td><td>[&quot;a nitrile&quot;]</td><td>3</td></tr><tr><td>4</td><td>&quot;*C(*)(N)C(=O)O&quot;</td><td>[&quot;2,2-dialkylglycine&quot;]</td><td>7</td></tr></tbody></table></div>"
      ],
      "text/plain": [
       "shape: (5, 4)\n",
       "┌─────┬────────────────┬────────────────────────┬─────────┐\n",
       "│ id  ┆ smiles         ┆ names                  ┆ n_atoms │\n",
       "│ --- ┆ ---            ┆ ---                    ┆ ---     │\n",
       "│ i64 ┆ str            ┆ list[str]              ┆ i32     │\n",
       "╞═════╪════════════════╪════════════════════════╪═════════╡\n",
       "│ 0   ┆ *              ┆ [\"A\"]                  ┆ 1       │\n",
       "│ 1   ┆ **             ┆ [\"RX\"]                 ┆ 2       │\n",
       "│ 2   ┆ *C             ┆ [\"an alkane\"]          ┆ 2       │\n",
       "│ 3   ┆ *C#N           ┆ [\"a nitrile\"]          ┆ 3       │\n",
       "│ 4   ┆ *C(*)(N)C(=O)O ┆ [\"2,2-dialkylglycine\"] ┆ 7       │\n",
       "└─────┴────────────────┴────────────────────────┴─────────┘"
      ]
     },
     "execution_count": 5,
     "metadata": {},
     "output_type": "execute_result"
    }
   ],
   "source": [
    "kcs = pl.read_parquet(Path(cfg.known) / \"known_compounds.parquet\")\n",
    "print(len(kcs))\n",
    "kcs.head()"
   ]
  },
  {
   "cell_type": "code",
   "execution_count": 14,
   "id": "3f991858",
   "metadata": {},
   "outputs": [
    {
     "name": "stderr",
     "output_type": "stream",
     "text": [
      "[15:41:02] WARNING: not removing hydrogen atom with dummy atom neighbors\n"
     ]
    },
    {
     "name": "stdout",
     "output_type": "stream",
     "text": [
      "1828\n"
     ]
    },
    {
     "name": "stderr",
     "output_type": "stream",
     "text": [
      "[15:41:03] WARNING: not removing hydrogen atom with dummy atom neighbors\n",
      "[15:41:03] WARNING: not removing hydrogen atom with dummy atom neighbors\n",
      "[15:41:03] Unusual charge on atom 0 number of radical electrons set to zero\n",
      "[15:41:03] Unusual charge on atom 0 number of radical electrons set to zero\n"
     ]
    },
    {
     "data": {
      "text/html": [
       "<div><style>\n",
       ".dataframe > thead > tr,\n",
       ".dataframe > tbody > tr {\n",
       "  text-align: right;\n",
       "  white-space: pre-wrap;\n",
       "}\n",
       "</style>\n",
       "<small>shape: (5, 4)</small><table border=\"1\" class=\"dataframe\"><thead><tr><th>id</th><th>smiles</th><th>names</th><th>n_atoms</th></tr><tr><td>i64</td><td>str</td><td>list[str]</td><td>i32</td></tr></thead><tbody><tr><td>2324</td><td>&quot;CC(C)(C)C=O&quot;</td><td>[&quot;2,2-dimethylpropanal&quot;]</td><td>6</td></tr><tr><td>1975</td><td>&quot;CC(=O)C(C)(C)C&quot;</td><td>[&quot;3,3-dimethylbutan-2-one&quot;]</td><td>7</td></tr><tr><td>2323</td><td>&quot;CC(C)(C)C(O)C#N&quot;</td><td>[&quot;(2S)-2-hydroxy-3,3-dimethylbutanenitrile&quot;]</td><td>8</td></tr><tr><td>2322</td><td>&quot;CC(C)(C)C(C)(O)C#N&quot;</td><td>[&quot;(2S)-2-hydroxy-2-methyl-3,3-dimethylbutanenitrile&quot;]</td><td>9</td></tr><tr><td>3360</td><td>&quot;CC1(C)COC(=O)C1=O&quot;</td><td>[&quot;2-dehydropantolactone&quot;]</td><td>9</td></tr></tbody></table></div>"
      ],
      "text/plain": [
       "shape: (5, 4)\n",
       "┌──────┬────────────────────┬─────────────────────────────────┬─────────┐\n",
       "│ id   ┆ smiles             ┆ names                           ┆ n_atoms │\n",
       "│ ---  ┆ ---                ┆ ---                             ┆ ---     │\n",
       "│ i64  ┆ str                ┆ list[str]                       ┆ i32     │\n",
       "╞══════╪════════════════════╪═════════════════════════════════╪═════════╡\n",
       "│ 2324 ┆ CC(C)(C)C=O        ┆ [\"2,2-dimethylpropanal\"]        ┆ 6       │\n",
       "│ 1975 ┆ CC(=O)C(C)(C)C     ┆ [\"3,3-dimethylbutan-2-one\"]     ┆ 7       │\n",
       "│ 2323 ┆ CC(C)(C)C(O)C#N    ┆ [\"(2S)-2-hydroxy-3,3-dimethylb… ┆ 8       │\n",
       "│ 2322 ┆ CC(C)(C)C(C)(O)C#N ┆ [\"(2S)-2-hydroxy-2-methyl-3,3-… ┆ 9       │\n",
       "│ 3360 ┆ CC1(C)COC(=O)C1=O  ┆ [\"2-dehydropantolactone\"]       ┆ 9       │\n",
       "└──────┴────────────────────┴─────────────────────────────────┴─────────┘"
      ]
     },
     "execution_count": 14,
     "metadata": {},
     "output_type": "execute_result"
    }
   ],
   "source": [
    "def patt_filter(smiles: str, patt: Chem.Mol) -> bool:\n",
    "    \"\"\"\n",
    "    Check if the SMILES string matches the given RDKit pattern.\n",
    "    \"\"\"\n",
    "    mol = Chem.MolFromSmiles(smiles)\n",
    "    if mol is None:\n",
    "        return False\n",
    "    return mol.HasSubstructMatch(patt)\n",
    "\n",
    "qty_C = '[#6]-[#6](-[#6])(-[#6])(-[#6])'\n",
    "qty_c_filter = partial(patt_filter, patt=Chem.MolFromSmarts(qty_C))\n",
    "\n",
    "\n",
    "qty_cs = kcs.filter(\n",
    "    pl.col(\"smiles\").map_elements(qty_c_filter, return_dtype=pl.Boolean)\n",
    ").sort(\"n_atoms\", descending=False)\n",
    "print(len(qty_cs))\n",
    "qty_cs.head()"
   ]
  },
  {
   "cell_type": "code",
   "execution_count": 20,
   "id": "8baa2c04",
   "metadata": {},
   "outputs": [
    {
     "data": {
      "application/vnd.jupyter.widget-view+json": {
       "model_id": "bef0825d9cff4c8eaf8c1dcb5d3a8fe2",
       "version_major": 2,
       "version_minor": 0
      },
      "text/plain": [
       "interactive(children=(Dropdown(description='SMILES:', options=(('2,2-dimethylpropanal', {'id': 2324, 'smiles':…"
      ]
     },
     "metadata": {},
     "output_type": "display_data"
    }
   ],
   "source": [
    "# Create a dropdown widget with the keys of qty_C_smiles\n",
    "dropdown = widgets.Dropdown(\n",
    "    options=[(row[\"names\"][0], row) for row in qty_cs.iter_rows(named=True)],\n",
    "    description='SMILES:',\n",
    "    style={'description_width': 'initial'}\n",
    ")\n",
    "\n",
    "# Define a function to display the selected key\n",
    "@interact\n",
    "def display_molecule(row = dropdown):\n",
    "    print(\", \".join(row[\"names\"]))\n",
    "    display(SVG(draw_molecule(row[\"smiles\"], size=(300, 300))))"
   ]
  },
  {
   "cell_type": "code",
   "execution_count": 21,
   "id": "e2318273",
   "metadata": {},
   "outputs": [],
   "source": [
    "qty_cs.write_parquet(\n",
    "    \"/home/stef/krxns/data/raw/qty_c_cpds.parquet\",\n",
    ")"
   ]
  }
 ],
 "metadata": {
  "kernelspec": {
   "display_name": "bottle-bcOlvnza-py3.12",
   "language": "python",
   "name": "python3"
  },
  "language_info": {
   "codemirror_mode": {
    "name": "ipython",
    "version": 3
   },
   "file_extension": ".py",
   "mimetype": "text/x-python",
   "name": "python",
   "nbconvert_exporter": "python",
   "pygments_lexer": "ipython3",
   "version": "3.12.7"
  }
 },
 "nbformat": 4,
 "nbformat_minor": 5
}
