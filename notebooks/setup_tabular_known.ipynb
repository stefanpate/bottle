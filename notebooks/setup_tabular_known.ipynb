{
 "cells": [
  {
   "cell_type": "code",
   "execution_count": 1,
   "id": "11bf3ed1",
   "metadata": {},
   "outputs": [],
   "source": [
    "import polars as pl\n",
    "from pathlib import Path\n",
    "import json\n",
    "from tqdm import tqdm\n",
    "from ergochemics.standardize import standardize_smiles, standardize_rxn\n",
    "from src.schemas import (\n",
    "    known_compounds_schema,\n",
    "    known_reactions_schema,\n",
    "    enzymes_schema\n",
    ")\n",
    "from functools import lru_cache\n",
    "from rdkit import Chem"
   ]
  },
  {
   "cell_type": "code",
   "execution_count": 2,
   "id": "ca592460",
   "metadata": {},
   "outputs": [],
   "source": [
    "@lru_cache(maxsize=10000)\n",
    "def std_smi(smi: str) -> str:\n",
    "    return standardize_smiles(\n",
    "        smiles=smi,\n",
    "        do_canon_taut=True,\n",
    "        neutralization_method=\"simple\",\n",
    "        quiet=True,\n",
    "        max_tautomers=100,\n",
    "    )\n",
    "\n",
    "# TODO: Must use! Put in place once externalize this to enz-rxn-data repo\n",
    "@lru_cache(maxsize=10000)\n",
    "def std_rxn(smi: str) -> str:\n",
    "    return standardize_rxn(\n",
    "        smiles=smi,\n",
    "        do_canon_taut=False, # Worried that canonicalizing tautomers could prevent reaction recapitulation\n",
    "        neutralization_method=\"simple\",\n",
    "        quiet=True,\n",
    "    )"
   ]
  },
  {
   "cell_type": "code",
   "execution_count": 3,
   "id": "490a5100",
   "metadata": {},
   "outputs": [],
   "source": [
    "# # Re-name mapping files\n",
    "# map_dir = Path().cwd().parent / \"artifacts/rxn_x_rule_mapping\"\n",
    "# for file in map_dir.glob(\"*.parquet\"):\n",
    "#     df = pl.read_parquet(file)\n",
    "#     fn = file.name.replace(\"mapped_sprhea_240310_v3_mapped_no_subunits\", \"sprhea_v3_ns\")\n",
    "#     out = file.parent / fn\n",
    "#     print(f\"Writing {out}\")\n",
    "#     df.write_parquet(out)"
   ]
  },
  {
   "cell_type": "code",
   "execution_count": 4,
   "id": "c2c55747",
   "metadata": {},
   "outputs": [],
   "source": [
    "known_dir = Path().cwd().parent / \"artifacts/known\"\n",
    "with open(\"/home/stef/quest_data/bottle/data/sprhea/sprhea_240310_v3_mapped_no_subunits.json\", \"r\") as f:\n",
    "    sprhea = json.load(f)"
   ]
  },
  {
   "cell_type": "code",
   "execution_count": 5,
   "id": "cd88b72f",
   "metadata": {},
   "outputs": [
    {
     "name": "stderr",
     "output_type": "stream",
     "text": [
      "[09:18:42] WARNING: not removing hydrogen atom with dummy atom neighbors\n",
      "[09:18:43] WARNING: not removing hydrogen atom with dummy atom neighbors\n",
      "[09:18:43] WARNING: not removing hydrogen atom with dummy atom neighbors\n",
      "[09:18:43] Unusual charge on atom 0 number of radical electrons set to zero\n",
      "[09:18:43] Unusual charge on atom 0 number of radical electrons set to zero\n"
     ]
    },
    {
     "data": {
      "text/html": [
       "<div><style>\n",
       ".dataframe > thead > tr,\n",
       ".dataframe > tbody > tr {\n",
       "  text-align: right;\n",
       "  white-space: pre-wrap;\n",
       "}\n",
       "</style>\n",
       "<small>shape: (5, 4)</small><table border=\"1\" class=\"dataframe\"><thead><tr><th>id</th><th>smiles</th><th>names</th><th>n_atoms</th></tr><tr><td>str</td><td>str</td><td>list[str]</td><td>i32</td></tr></thead><tbody><tr><td>&quot;0&quot;</td><td>&quot;*&quot;</td><td>[&quot;A&quot;]</td><td>1</td></tr><tr><td>&quot;1&quot;</td><td>&quot;**&quot;</td><td>[&quot;RX&quot;]</td><td>2</td></tr><tr><td>&quot;2&quot;</td><td>&quot;*C&quot;</td><td>[&quot;an alkane&quot;]</td><td>2</td></tr><tr><td>&quot;3&quot;</td><td>&quot;*C#N&quot;</td><td>[&quot;a nitrile&quot;]</td><td>3</td></tr><tr><td>&quot;4&quot;</td><td>&quot;*C(*)(N)C(=O)O&quot;</td><td>[&quot;2,2-dialkylglycine&quot;]</td><td>7</td></tr></tbody></table></div>"
      ],
      "text/plain": [
       "shape: (5, 4)\n",
       "┌─────┬────────────────┬────────────────────────┬─────────┐\n",
       "│ id  ┆ smiles         ┆ names                  ┆ n_atoms │\n",
       "│ --- ┆ ---            ┆ ---                    ┆ ---     │\n",
       "│ str ┆ str            ┆ list[str]              ┆ i32     │\n",
       "╞═════╪════════════════╪════════════════════════╪═════════╡\n",
       "│ 0   ┆ *              ┆ [\"A\"]                  ┆ 1       │\n",
       "│ 1   ┆ **             ┆ [\"RX\"]                 ┆ 2       │\n",
       "│ 2   ┆ *C             ┆ [\"an alkane\"]          ┆ 2       │\n",
       "│ 3   ┆ *C#N           ┆ [\"a nitrile\"]          ┆ 3       │\n",
       "│ 4   ┆ *C(*)(N)C(=O)O ┆ [\"2,2-dialkylglycine\"] ┆ 7       │\n",
       "└─────┴────────────────┴────────────────────────┴─────────┘"
      ]
     },
     "execution_count": 5,
     "metadata": {},
     "output_type": "execute_result"
    }
   ],
   "source": [
    "# Create known compounds DataFrame\n",
    "\n",
    "smi2name = {smi: name for entry in sprhea.values() for smi, name in entry['smi2name'].items()}\n",
    "compounds = sorted(smi2name.items())\n",
    "smiles, rxn_counts = zip(*compounds)\n",
    "compounds_df = pl.DataFrame(\n",
    "    {\n",
    "        'id': range(len(compounds)),\n",
    "        'smiles': smiles,\n",
    "        'names': [smi2name.get(smi, '') for smi in smiles],\n",
    "    },\n",
    ")\n",
    "\n",
    "compounds_df = compounds_df.with_columns(\n",
    "    pl.col('smiles').map_elements(lambda smi: Chem.MolFromSmiles(smi).GetNumAtoms(), return_dtype=pl.Int32).alias('n_atoms'),\n",
    "    pl.col('names').str.split(';').alias('names'),\n",
    "    pl.col('id').cast(pl.String),\n",
    ")\n",
    "\n",
    "assert compounds_df.schema == pl.Schema(known_compounds_schema)\n",
    "\n",
    "compounds_df.write_parquet(\n",
    "    known_dir / \"known_compounds.parquet\",\n",
    ")\n",
    "\n",
    "compounds_df.head()"
   ]
  },
  {
   "cell_type": "code",
   "execution_count": 6,
   "id": "a466043a",
   "metadata": {},
   "outputs": [
    {
     "data": {
      "text/html": [
       "<div><style>\n",
       ".dataframe > thead > tr,\n",
       ".dataframe > tbody > tr {\n",
       "  text-align: right;\n",
       "  white-space: pre-wrap;\n",
       "}\n",
       "</style>\n",
       "<small>shape: (5, 7)</small><table border=\"1\" class=\"dataframe\"><thead><tr><th>id</th><th>sequence</th><th>existence</th><th>reviewed</th><th>ec</th><th>organism</th><th>name</th></tr><tr><td>str</td><td>str</td><td>enum</td><td>enum</td><td>str</td><td>str</td><td>str</td></tr></thead><tbody><tr><td>&quot;A2RJM8&quot;</td><td>&quot;MIEELGLKVKTASKEAAKLSTAEKNTFLQK…</td><td>&quot;Inferred from homology&quot;</td><td>&quot;reviewed&quot;</td><td>&quot;1.2.1.41&quot;</td><td>&quot;Lactococcus lactis subsp. crem…</td><td>&quot;Gamma-glutamyl phosphate reduc…</td></tr><tr><td>&quot;Q1B639&quot;</td><td>&quot;MSVHAPAAPDLRTEVHDAARRARVASRTLA…</td><td>&quot;Inferred from homology&quot;</td><td>&quot;reviewed&quot;</td><td>&quot;1.2.1.41&quot;</td><td>&quot;Mycobacterium sp. (strain MCS)&quot;</td><td>&quot;Gamma-glutamyl phosphate reduc…</td></tr><tr><td>&quot;A2SCE2&quot;</td><td>&quot;MNAPDATPVIALMDRLGSAARSASTAMAAA…</td><td>&quot;Inferred from homology&quot;</td><td>&quot;reviewed&quot;</td><td>&quot;1.2.1.41&quot;</td><td>&quot;Methylibium petroleiphilum (st…</td><td>&quot;Gamma-glutamyl phosphate reduc…</td></tr><tr><td>&quot;A1TC11&quot;</td><td>&quot;MSVQAPSVPDLRQQVHDAARRARGAARALA…</td><td>&quot;Inferred from homology&quot;</td><td>&quot;reviewed&quot;</td><td>&quot;1.2.1.41&quot;</td><td>&quot;Mycolicibacterium vanbaalenii …</td><td>&quot;Gamma-glutamyl phosphate reduc…</td></tr><tr><td>&quot;A4G8E9&quot;</td><td>&quot;MDIKQYMKEVGQRARKASRAMAKADTAAKN…</td><td>&quot;Inferred from homology&quot;</td><td>&quot;reviewed&quot;</td><td>&quot;1.2.1.41&quot;</td><td>&quot;Herminiimonas arsenicoxydans&quot;</td><td>&quot;Gamma-glutamyl phosphate reduc…</td></tr></tbody></table></div>"
      ],
      "text/plain": [
       "shape: (5, 7)\n",
       "┌────────┬────────────────┬────────────────┬──────────┬──────────┬────────────────┬────────────────┐\n",
       "│ id     ┆ sequence       ┆ existence      ┆ reviewed ┆ ec       ┆ organism       ┆ name           │\n",
       "│ ---    ┆ ---            ┆ ---            ┆ ---      ┆ ---      ┆ ---            ┆ ---            │\n",
       "│ str    ┆ str            ┆ enum           ┆ enum     ┆ str      ┆ str            ┆ str            │\n",
       "╞════════╪════════════════╪════════════════╪══════════╪══════════╪════════════════╪════════════════╡\n",
       "│ A2RJM8 ┆ MIEELGLKVKTASK ┆ Inferred from  ┆ reviewed ┆ 1.2.1.41 ┆ Lactococcus    ┆ Gamma-glutamyl │\n",
       "│        ┆ EAAKLSTAEKNTFL ┆ homology       ┆          ┆          ┆ lactis subsp.  ┆ phosphate      │\n",
       "│        ┆ QK…            ┆                ┆          ┆          ┆ crem…          ┆ reduc…         │\n",
       "│ Q1B639 ┆ MSVHAPAAPDLRTE ┆ Inferred from  ┆ reviewed ┆ 1.2.1.41 ┆ Mycobacterium  ┆ Gamma-glutamyl │\n",
       "│        ┆ VHDAARRARVASRT ┆ homology       ┆          ┆          ┆ sp. (strain    ┆ phosphate      │\n",
       "│        ┆ LA…            ┆                ┆          ┆          ┆ MCS)           ┆ reduc…         │\n",
       "│ A2SCE2 ┆ MNAPDATPVIALMD ┆ Inferred from  ┆ reviewed ┆ 1.2.1.41 ┆ Methylibium    ┆ Gamma-glutamyl │\n",
       "│        ┆ RLGSAARSASTAMA ┆ homology       ┆          ┆          ┆ petroleiphilum ┆ phosphate      │\n",
       "│        ┆ AA…            ┆                ┆          ┆          ┆ (st…           ┆ reduc…         │\n",
       "│ A1TC11 ┆ MSVQAPSVPDLRQQ ┆ Inferred from  ┆ reviewed ┆ 1.2.1.41 ┆ Mycolicibacter ┆ Gamma-glutamyl │\n",
       "│        ┆ VHDAARRARGAARA ┆ homology       ┆          ┆          ┆ ium            ┆ phosphate      │\n",
       "│        ┆ LA…            ┆                ┆          ┆          ┆ vanbaalenii …  ┆ reduc…         │\n",
       "│ A4G8E9 ┆ MDIKQYMKEVGQRA ┆ Inferred from  ┆ reviewed ┆ 1.2.1.41 ┆ Herminiimonas  ┆ Gamma-glutamyl │\n",
       "│        ┆ RKASRAMAKADTAA ┆ homology       ┆          ┆          ┆ arsenicoxydans ┆ phosphate      │\n",
       "│        ┆ KN…            ┆                ┆          ┆          ┆                ┆ reduc…         │\n",
       "└────────┴────────────────┴────────────────┴──────────┴──────────┴────────────────┴────────────────┘"
      ]
     },
     "execution_count": 6,
     "metadata": {},
     "output_type": "execute_result"
    }
   ],
   "source": [
    "# Collect enzyme data\n",
    "\n",
    "enz_data = {}\n",
    "for k, v in sprhea.items():\n",
    "    for enz in v['enzymes']:\n",
    "        enz['id'] = enz['uniprot_id']\n",
    "        enz.pop('uniprot_id', None)\n",
    "        enz_data[enz['id']] = enz\n",
    "\n",
    "enz_data = list(enz_data.values())\n",
    "enz_df = pl.DataFrame(data=enz_data, schema=enzymes_schema)\n",
    "enz_df.write_parquet(\n",
    "    known_dir / \"known_enzymes.parquet\",\n",
    ")\n",
    "\n",
    "enz_df.head()"
   ]
  },
  {
   "cell_type": "code",
   "execution_count": 7,
   "id": "38a01a89",
   "metadata": {},
   "outputs": [
    {
     "data": {
      "text/html": [
       "<div><style>\n",
       ".dataframe > thead > tr,\n",
       ".dataframe > tbody > tr {\n",
       "  text-align: right;\n",
       "  white-space: pre-wrap;\n",
       "}\n",
       "</style>\n",
       "<small>shape: (5, 5)</small><table border=\"1\" class=\"dataframe\"><thead><tr><th>id</th><th>smarts</th><th>enzymes</th><th>reverse</th><th>db_ids</th></tr><tr><td>str</td><td>str</td><td>list[str]</td><td>str</td><td>list[str]</td></tr></thead><tbody><tr><td>&quot;0&quot;</td><td>&quot;NC(CCC=O)C(=O)O.NC(=O)c1ccc[n+…</td><td>[&quot;C1EZ15&quot;, &quot;A5VIE0&quot;, … &quot;Q3Z6Z9&quot;]</td><td>&quot;1651&quot;</td><td>[&quot;rhea:19542&quot;]</td></tr><tr><td>&quot;1&quot;</td><td>&quot;CC(O)C(O)C(O)C(O)C(=O)O&gt;&gt;CC(O)…</td><td>[&quot;B7UFQ9&quot;, &quot;A0KDV2&quot;, … &quot;B1LLK1&quot;]</td><td>&quot;1166&quot;</td><td>[&quot;rhea:23081&quot;, &quot;rhea:22773&quot;, &quot;rhea:12950&quot;]</td></tr><tr><td>&quot;3&quot;</td><td>&quot;CSCCC(=O)C(=O)O.O=CO&gt;&gt;CSCCC(=O…</td><td>[&quot;Q8H185&quot;, &quot;A7FLL2&quot;, … &quot;A1JP10&quot;]</td><td>&quot;1126&quot;</td><td>[&quot;rhea:24506&quot;]</td></tr><tr><td>&quot;4&quot;</td><td>&quot;O.O.[Fe+3].[Fe+3]&gt;&gt;OO.[Fe+2].[…</td><td>[&quot;A0R692&quot;, &quot;Q5AEN1&quot;, … &quot;B7UM08&quot;]</td><td>&quot;1923&quot;</td><td>[&quot;rhea:48714&quot;, &quot;rhea:16583&quot;]</td></tr><tr><td>&quot;5&quot;</td><td>&quot;Nc1nc2c(ncn2C2OC(COP(=O)(O)OP(…</td><td>[&quot;Q9WYJ4&quot;, &quot;O67214&quot;]</td><td>&quot;15231&quot;</td><td>[&quot;rhea:59085&quot;]</td></tr></tbody></table></div>"
      ],
      "text/plain": [
       "shape: (5, 5)\n",
       "┌─────┬─────────────────────────────────┬────────────────────────┬─────────┬──────────────────┐\n",
       "│ id  ┆ smarts                          ┆ enzymes                ┆ reverse ┆ db_ids           │\n",
       "│ --- ┆ ---                             ┆ ---                    ┆ ---     ┆ ---              │\n",
       "│ str ┆ str                             ┆ list[str]              ┆ str     ┆ list[str]        │\n",
       "╞═════╪═════════════════════════════════╪════════════════════════╪═════════╪══════════════════╡\n",
       "│ 0   ┆ NC(CCC=O)C(=O)O.NC(=O)c1ccc[n+… ┆ [\"C1EZ15\", \"A5VIE0\", … ┆ 1651    ┆ [\"rhea:19542\"]   │\n",
       "│     ┆                                 ┆ \"Q3Z6Z9…               ┆         ┆                  │\n",
       "│ 1   ┆ CC(O)C(O)C(O)C(O)C(=O)O>>CC(O)… ┆ [\"B7UFQ9\", \"A0KDV2\", … ┆ 1166    ┆ [\"rhea:23081\",   │\n",
       "│     ┆                                 ┆ \"B1LLK1…               ┆         ┆ \"rhea:22773\", \"… │\n",
       "│ 3   ┆ CSCCC(=O)C(=O)O.O=CO>>CSCCC(=O… ┆ [\"Q8H185\", \"A7FLL2\", … ┆ 1126    ┆ [\"rhea:24506\"]   │\n",
       "│     ┆                                 ┆ \"A1JP10…               ┆         ┆                  │\n",
       "│ 4   ┆ O.O.[Fe+3].[Fe+3]>>OO.[Fe+2].[… ┆ [\"A0R692\", \"Q5AEN1\", … ┆ 1923    ┆ [\"rhea:48714\",   │\n",
       "│     ┆                                 ┆ \"B7UM08…               ┆         ┆ \"rhea:16583\"]    │\n",
       "│ 5   ┆ Nc1nc2c(ncn2C2OC(COP(=O)(O)OP(… ┆ [\"Q9WYJ4\", \"O67214\"]   ┆ 15231   ┆ [\"rhea:59085\"]   │\n",
       "└─────┴─────────────────────────────────┴────────────────────────┴─────────┴──────────────────┘"
      ]
     },
     "execution_count": 7,
     "metadata": {},
     "output_type": "execute_result"
    }
   ],
   "source": [
    "kr_data = []\n",
    "for k, v in sprhea.items():\n",
    "    kr_data.append(\n",
    "        {\n",
    "            'id': k,\n",
    "            'smarts': v['smarts'],\n",
    "            'enzymes': list(set(enz['id'] for enz in v['enzymes'])),\n",
    "            'reverse': v['reverse'],\n",
    "            'db_ids': [f\"rhea:{id}\" for id in v['rhea_ids']],\n",
    "        }\n",
    "    )\n",
    "\n",
    "kr_df = pl.DataFrame(kr_data)\n",
    "kr_df = kr_df.with_columns(\n",
    "    pl.col('reverse').cast(pl.String)\n",
    ")\n",
    "\n",
    "assert kr_df.schema == known_reactions_schema\n",
    "\n",
    "kr_df.write_parquet(\n",
    "    known_dir / \"known_reactions.parquet\",\n",
    ")\n",
    "\n",
    "kr_df.head()"
   ]
  }
 ],
 "metadata": {
  "kernelspec": {
   "display_name": "bottle-bcOlvnza-py3.12",
   "language": "python",
   "name": "python3"
  },
  "language_info": {
   "codemirror_mode": {
    "name": "ipython",
    "version": 3
   },
   "file_extension": ".py",
   "mimetype": "text/x-python",
   "name": "python",
   "nbconvert_exporter": "python",
   "pygments_lexer": "ipython3",
   "version": "3.12.7"
  }
 },
 "nbformat": 4,
 "nbformat_minor": 5
}
