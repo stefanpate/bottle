{
 "cells": [
  {
   "cell_type": "code",
   "execution_count": 20,
   "metadata": {},
   "outputs": [],
   "source": [
    "from minedatabase.pickaxe import Pickaxe\n",
    "from DORA_XGB import DORA_XGB"
   ]
  },
  {
   "cell_type": "code",
   "execution_count": 22,
   "metadata": {},
   "outputs": [],
   "source": [
    "by_desc_MW_model = DORA_XGB.feasibility_classifier(cofactor_positioning = 'by_descending_MW')\n",
    "by_asc_MW_model = DORA_XGB.feasibility_classifier(cofactor_positioning = 'by_ascending_MW')\n",
    "add_concat_model = DORA_XGB.feasibility_classifier(cofactor_positioning = 'add_concat')\n",
    "add_subtract_model = DORA_XGB.feasibility_classifier(cofactor_positioning = 'add_subtract')"
   ]
  },
  {
   "cell_type": "code",
   "execution_count": 37,
   "metadata": {},
   "outputs": [
    {
     "name": "stdout",
     "output_type": "stream",
     "text": [
      "Reaction: OC(C(C)=O)=O = O=C=O | Feasibility Score: 0.493\n",
      "Predicted label: 0\n",
      "Reaction: C(C(=O)O)O = O=C=O | Feasibility Score: 0.456\n",
      "Predicted label: 0\n",
      "\n",
      "Removed reactions due to low feasibility: {'CC(=O)O'}\n"
     ]
    }
   ],
   "source": [
    "\n",
    "# rxn_str = \"OC(C(C)=O)=O + O=C=O + NC(=O)C1=CN(C2OC(COP(=O)(O)OP(=O)(O)OCC3OC(n4cnc5c(N)ncnc54)C(O)C3O)C(O)C2O)C=CC1 = NC(=O)c1ccc[n+](C2OC(COP(=O)(O)OP(=O)(O)OCC3OC(n4cnc5c(N)ncnc54)C(O)C3O)C(O)C2O)c1 + OC(C(O)CC(O)=O)=O\"\n",
    "# rxn_str = \"OC(C(C)=O)=O = O=C=O\"\n",
    "\n",
    "\n",
    "starters = [\"OC(C(C)=O)=O\", \"CC(=O)O\", \"C(C(=O)O)O\"]  # List of multiple starters\n",
    "target = \"O=C=O\"\n",
    "\n",
    "threshold = 0.4 # Set your desired threshold\n",
    "\n",
    "filtered_reactions = []  # List to store valid reactions\n",
    "\n",
    "for starter in starters:\n",
    "    rxn_str = f\"{starter} = {target}\"  # Format reaction string\n",
    "    score = by_desc_MW_model.predict_proba(rxn_str)  # Get feasibility score\n",
    "    \n",
    "    if score >= threshold:  # Only keep reactions above threshold\n",
    "        filtered_reactions.append((rxn_str, score))\n",
    "        print(f'Reaction: {rxn_str} | Feasibility Score: {score:.3f}')\n",
    "        print(f'Predicted label: {by_desc_MW_model.predict_label(rxn_str)}')\n",
    "\n",
    "# Optional: Print removed reactions\n",
    "removed = set(starters) - {r[0].split(\" = \")[0] for r in filtered_reactions}\n",
    "if removed:\n",
    "    print(\"\\nRemoved reactions due to low feasibility:\", removed)\n",
    "\n",
    "# print(f'\\nPredicted feasibility score with descending MW model: {by_desc_MW_model.predict_proba(rxn_str):.3f}')\n",
    "# print(f'Predicted label with descending MW model: {by_desc_MW_model.predict_label(rxn_str)}')\n",
    "\n",
    "\n",
    "# # Predict feasibility score and label with model that creates reaction fingerprints in descending MW\n",
    "# print(f'\\nPredicted feasibility score with descending MW model: {by_desc_MW_model.predict_proba(rxn_str):.3f}')\n",
    "# print(f'Predicted label with descending MW model: {by_desc_MW_model.predict_label(rxn_str)}')\n",
    "\n",
    "# #Predict feasibility score and label with model that creates reaction fingerprints in ascending MW\n",
    "# #print(f'\\nPredicted feasibility score with ascending MW model: {by_asc_MW_model.predict_proba(rxn_str):.3f}')\n",
    "# print(f'Predicted label with ascending MW model: {by_asc_MW_model.predict_label(rxn_str)}')\n",
    "\n",
    "# #Predict feasibility score and label with model that creates reaction fingerprints with the \"add then concatenate\" configuration\n",
    "# #print(f'\\nPredicted feasibility score with add concat model: {add_concat_model.predict_proba(rxn_str):.3f}')\n",
    "# print(f'Predicted label with add concat model: {add_concat_model.predict_label(rxn_str)}')\n",
    "\n",
    "# #Predict feasibility score and label that creates reaction fingerprints with the \"add then subtract\" configuration\n",
    "# #print(f'\\nPredicted feasibility score with add subtract model: {add_subtract_model.predict_proba(rxn_str):.3f}')\n",
    "# #print(f'Predict label with add subtract model: {add_subtract_model.predict_label(rxn_str)}')"
   ]
  },
  {
   "cell_type": "code",
   "execution_count": null,
   "metadata": {},
   "outputs": [],
   "source": [
    "by_desc_MW_model = DORA_XGB.feasibility_classifier(cofactor_positioning = 'by_descending_MW')\n",
    "\n",
    "def feasibility_score(rxn_id: str) -> float:\n",
    "    \"\"\"Returns the feasibility score for a reaction. \"\"\"\n",
    "    products = pickaxe.reactions[rxn_id][\"Products\"]\n",
    "    score = by_desc_MW_model.predict_proba(products)  # Get feasibility score\n",
    "    return score  # Simply return the score"
   ]
  }
 ],
 "metadata": {
  "kernelspec": {
   "display_name": "Python (My_feasbottle)",
   "language": "python",
   "name": "bottle-feas"
  },
  "language_info": {
   "codemirror_mode": {
    "name": "ipython",
    "version": 3
   },
   "file_extension": ".py",
   "mimetype": "text/x-python",
   "name": "python",
   "nbconvert_exporter": "python",
   "pygments_lexer": "ipython3",
   "version": "3.12.4"
  }
 },
 "nbformat": 4,
 "nbformat_minor": 2
}
